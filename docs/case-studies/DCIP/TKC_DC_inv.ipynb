{
 "cells": [
  {
   "cell_type": "code",
   "execution_count": 8,
   "metadata": {
    "collapsed": true
   },
   "outputs": [],
   "source": [
    "from ipywidgets import interact, IntSlider\n",
    "import numpy as np\n",
    "%matplotlib inline\n",
    "import matplotlib\n",
    "import matplotlib.pyplot as plt\n",
    "from matplotlib.ticker import FormatStrFormatter\n",
    "matplotlib.rcParams['font.size'] = 14"
   ]
  },
  {
   "cell_type": "markdown",
   "metadata": {},
   "source": [
    "## Inverse problem"
   ]
  },
  {
   "cell_type": "markdown",
   "metadata": {},
   "source": [
    "### Run inverse problem"
   ]
  },
  {
   "cell_type": "code",
   "execution_count": 2,
   "metadata": {},
   "outputs": [
    {
     "name": "stdout",
     "output_type": "stream",
     "text": [
      "SimPEG.InvProblem will set Regularization.mref to m0.\n",
      "\n",
      "    SimPEG.InvProblem is setting bfgsH0 to the inverse of the eval2Deriv.\n",
      "    ***Done using same Solver and solverOpts as the problem***\n",
      "SimPEG.SaveOutputEveryIteration will save your inversion progress as: '###-InversionModel-2017-07-27-11-46.txt'\n",
      "SimPEG.SaveModelEveryIteration will save your models as: '###-InversionModel-2017-07-27-11-46.npy'\n",
      "model has any nan: 0\n",
      "============================ Inexact Gauss Newton ============================\n",
      "  #     beta     phi_d     phi_m       f      |proj(x-g)-x|  LS    Comment   \n",
      "-----------------------------------------------------------------------------\n",
      "x0 has any nan: 0\n",
      "   0  6.73e+02  2.26e+06  0.00e+00  2.26e+06    9.60e+04      0              \n",
      "   1  6.73e+02  2.36e+05  7.23e+00  2.41e+05    1.26e+04      0              \n",
      "   2  1.35e+02  2.84e+04  2.11e+01  3.12e+04    1.90e+03      0   Skip BFGS  \n",
      "   3  1.35e+02  2.80e+03  3.94e+01  8.10e+03    3.23e+02      0   Skip BFGS  \n",
      "   4  2.69e+01  9.18e+02  4.40e+01  2.10e+03    1.67e+02      0   Skip BFGS  \n",
      "   5  2.69e+01  3.35e+02  5.23e+01  1.74e+03    7.28e+01      0   Skip BFGS  \n",
      "------------------------- STOP! -------------------------\n",
      "1 : |fc-fOld| = 0.0000e+00 <= tolF*(1+|f0|) = 2.2605e+05\n",
      "1 : |xc-x_last| = 2.5903e+01 <= tolX*(1+|x0|) = 3.2629e+02\n",
      "0 : |proj(x-g)-x|    = 7.2823e+01 <= tolG          = 1.0000e-01\n",
      "0 : |proj(x-g)-x|    = 7.2823e+01 <= 1e3*eps       = 1.0000e-02\n",
      "0 : maxIter   =      20    <= iter          =      6\n",
      "------------------------- DONE! -------------------------\n"
     ]
    }
   ],
   "source": [
    "from SimPEG import Mesh, Utils, Maps, Survey\n",
    "from SimPEG import DataMisfit, Regularization, Optimization, Directives, InvProblem, Inversion\n",
    "from SimPEG.EM.Static import DC, IP, Utils as StaticUtils\n",
    "from pymatsolver import PardisoSolver\n",
    "\n",
    "\n",
    "\n",
    "# Setup tensor mesh\n",
    "\n",
    "# Core cell sizes in x, y, and z\n",
    "csx, csy, csz = 25., 25., 25.\n",
    "# Number of core cells in each direction\n",
    "ncx, ncy, ncz = 48, 48, 20\n",
    "# Number of padding cells to add in each direction\n",
    "npad = 7\n",
    "# Vectors of cell lengthts in each direction\n",
    "hx = [(csx,npad, -1.3),(csx,ncx),(csx,npad, 1.3)]\n",
    "hy = [(csy,npad, -1.3),(csy,ncy),(csy,npad, 1.3)]\n",
    "hz = [(csz,npad, -1.3),(csz,ncz), (csz/2.,6)]\n",
    "# Create mesh\n",
    "mesh = Mesh.TensorMesh([hx, hy, hz],x0=\"CCN\")\n",
    "# Map mesh coordinates from local to UTM coordiantes\n",
    "xc = 300+5.57e5\n",
    "yc = 600+7.133e6\n",
    "zc = 425.\n",
    "mesh._x0 = mesh.x0 + np.r_[xc, yc, zc]\n",
    "\n",
    "# Load synthetic conductivity model matching the designated mesh\n",
    "sigma = mesh.readModelUBC(\"VTKout_DC.dat\")\n",
    "# Identify air cells in the model\n",
    "airind = sigma == 1e-8\n",
    "\n",
    "# Obtain topographic surface from 3D conductivity model\n",
    "mesh2D, topoCC = StaticUtils.gettopoCC(mesh, airind)\n",
    "\n",
    "\n",
    "# Setup gradient array survey\n",
    "\n",
    "# Define the source electrode locations\n",
    "# Here we use a single dipole source (A-B electrode) in the x-direction)\n",
    "Aloc1_x = np.r_[-600., 0, 0.] + np.r_[xc, yc, zc]\n",
    "Bloc1_x = np.r_[600., 0, 0.] + np.r_[xc, yc, zc]\n",
    "\n",
    "# Rx locations (M-N electrodes, x-direction)\n",
    "# Find x and y cell centres in the interior portion of the mesh\n",
    "x = mesh.vectorCCx[np.logical_and(mesh.vectorCCx>-300.+ xc, mesh.vectorCCx<300.+ xc)]\n",
    "y = mesh.vectorCCy[np.logical_and(mesh.vectorCCy>-300.+ yc, mesh.vectorCCy<300.+ yc)]\n",
    "# Grid selected cell centres to get M and N Rx electrode locations\n",
    "Mx = Utils.ndgrid(x[:-1], y, np.r_[-12.5/2.])\n",
    "Nx = Utils.ndgrid(x[1:], y, np.r_[-12.5/2.])\n",
    "# Get cell ind for electrode locations to extract electrode elevation from topoCC\n",
    "inds_Mx = Utils.closestPoints(mesh2D, Mx[:,:2])\n",
    "inds_Nx = Utils.closestPoints(mesh2D, Nx[:,:2])\n",
    "# Draped M and N electrode x,y,z locations\n",
    "Mx_dr = np.c_[Mx[:,0], Mx[:,1], topoCC[inds_Mx]]\n",
    "Nx_dr = np.c_[Nx[:,0], Nx[:,1], topoCC[inds_Nx]]\n",
    "\n",
    "# Create Src and Rx classes for DC problem\n",
    "rx_x = DC.Rx.Dipole(Mx_dr, Nx_dr)\n",
    "src1 = DC.Src.Dipole([rx_x], Aloc1_x, Bloc1_x)\n",
    "\n",
    "# Setup mappings\n",
    "# Inversion model is log conductivity in the subsurface. This can be realized as a following mapping:\n",
    "expmap = Maps.ExpMap(mesh) # from log conductivity to conductivity\n",
    "actmap = Maps.InjectActiveCells(mesh, ~airind, np.log(1e-8)) # from subsurface cells to full3D cells\n",
    "mapping = expmap*actmap\n",
    "\n",
    "\n",
    "# Create inital and reference model (1e-4 S/m)\n",
    "m0 = np.ones_like(sigma)[~airind]*np.log(1e-4)\n",
    "\n",
    "# Form survey object using Srcs and Rxs that we have generated\n",
    "survey = DC.Survey([src1])\n",
    "# Define problem and set solver\n",
    "problem = DC.Problem3D_CC(mesh, sigmaMap=mapping)\n",
    "problem.Solver = PardisoSolver\n",
    "# Pair problem and survey\n",
    "problem.pair(survey)\n",
    "\n",
    "# Define true model based on mapping\n",
    "mtrue = np.log(sigma)[~airind]\n",
    "\n",
    "# Forward model fields due to the reference model and true model\n",
    "f0 = problem.fields(m0)\n",
    "f = problem.fields(mtrue)\n",
    "\n",
    "# Get observed data\n",
    "dobs = survey.dpred(mtrue, f=f)\n",
    "\n",
    "# Compute secondary potential\n",
    "phi_sec = f[src1, \"phi\"] - f0[src1, \"phi\"]\n",
    "\n",
    "\n",
    "# Inversion\n",
    "\n",
    "# Depth weighting\n",
    "depth = 1./(abs(mesh.gridCC[:,2]-zc))**1.5\n",
    "depth = depth/depth.max()\n",
    "\n",
    "# Setup inversion object\n",
    "regmap = Maps.IdentityMap(nP=m0.size)\n",
    "# Assign uncertainties\n",
    "std = 0.05\n",
    "eps = 1e-3\n",
    "survey.std = std\n",
    "survey.eps = eps\n",
    "survey.dobs = dobs\n",
    "# Define datamisfit portion of objective function\n",
    "dmisfit = DataMisfit.l2_DataMisfit(survey)\n",
    "# Define regulatization (model objective function)\n",
    "reg = Regularization.Simple(mesh, mapping=regmap, indActive=~airind, cell_weights=depth[~airind])\n",
    "opt = Optimization.InexactGaussNewton(maxIter = 20)\n",
    "invProb = InvProblem.BaseInvProblem(dmisfit, reg, opt)\n",
    "# Define inversion parameters\n",
    "beta = Directives.BetaSchedule(coolingFactor=5, coolingRate=2)\n",
    "betaest = Directives.BetaEstimate_ByEig(beta0_ratio=1e0)\n",
    "save = Directives.SaveOutputEveryIteration()\n",
    "savemodel = Directives.SaveModelEveryIteration()\n",
    "target = Directives.TargetMisfit()\n",
    "inv = Inversion.BaseInversion(invProb, directiveList=[beta,betaest, save, target, savemodel])\n",
    "reg.alpha_s = 1e-1\n",
    "reg.alpha_x = 1.\n",
    "reg.alpha_y = 1.\n",
    "reg.alpha_z = 1.\n",
    "problem.counter = opt.counter = Utils.Counter()\n",
    "opt.LSshorten = 0.5\n",
    "opt.remember('xc')\n",
    "\n",
    "# Run inversion\n",
    "mopt = inv.run(m0)"
   ]
  },
  {
   "cell_type": "code",
   "execution_count": 3,
   "metadata": {
    "collapsed": true
   },
   "outputs": [],
   "source": [
    "# Apply mapping to model to get and save recovered conductivity\n",
    "sigopt = mapping*mopt\n",
    "# np.save(\"sigest_singlesrc_withdweights\", sigopt)\n",
    "\n",
    "# Calculate dpred\n",
    "dpred = survey.dpred(np.log(sigopt[~airind]))"
   ]
  },
  {
   "cell_type": "markdown",
   "metadata": {},
   "source": [
    "### Plot true and recovered conductivity models to assess how well anomalous structures are recovered."
   ]
  },
  {
   "cell_type": "code",
   "execution_count": 5,
   "metadata": {
    "collapsed": true
   },
   "outputs": [],
   "source": [
    "def compareTrueRecoveredMod(indz,indy):\n",
    "    fig = plt.figure(figsize=(11, 8))\n",
    "    vmin, vmax = -4, -1\n",
    "    xmin, xmax = -500+xc, 500+xc\n",
    "    ymin, ymax = -500+yc, 500+yc\n",
    "    zmin, zmax = -500+zc, 0+zc\n",
    "#     indz = 28\n",
    "#     indy = 31\n",
    "    # Axis label\n",
    "    x = np.linspace(xmin+200, xmax-200,3)\n",
    "    matplotlib.rcParams['font.size'] = 10\n",
    "\n",
    "    # True Conductivity Model z-section\n",
    "    ax1 = plt.subplot(1,1,1)\n",
    "    pos =  ax1.get_position()\n",
    "    ax1.set_position([pos.x0-0.1, pos.y0+0.3,  pos.width*0.5, pos.height*0.5])\n",
    "    ax1,dat1 = viz(mesh, sigma, indz, airind, normal=\"Z\", xc=xc,yc=yc,zc=zc, ax=ax1, cb=False, clim=(vmin, vmax), pltshow=False)\n",
    "    plt.gca().set_aspect('equal')\n",
    "    ax1.set_title((\"Slice at z=%.1f m\")%(mesh.vectorCCz[indz]))\n",
    "    ax1.xaxis.set_visible(False)\n",
    "    ax1.set_xlim(xmin, xmax)\n",
    "    ax1.set_ylim(ymin, ymax)    \n",
    "    ax1.set_ylabel('Northing (m)')\n",
    "\n",
    "    # True Conductivity Model y-section\n",
    "    pos =  ax1.get_position()\n",
    "    ax2 = fig.add_axes([pos.x0+0.0525, pos.y0 - 0.36,  pos.width*0.725, pos.height])\n",
    "    ax2, dat2 = viz(mesh, sigma, indy, airind, normal=\"Y\", xc=xc,yc=yc,zc=zc, ax=ax2, cb=False, clim=(vmin, vmax), pltshow=False)\n",
    "    plt.gca().set_aspect('equal')\n",
    "    ax2.set_title((\"Slice at y=%.1f m\")%(mesh.vectorCCy[indy]))\n",
    "    ax2.set_xlim(xmin, xmax)\n",
    "    ax2.set_ylim(zmin, zmax) \n",
    "    ax2.set_xticks(map(int, x))\n",
    "    ax2.set_xticklabels(map(str, map(int, x)),size=12)\n",
    "    ax2.set_xlabel('Easting (m)')\n",
    "    ax2.set_ylabel('Elev. (m)')\n",
    "\n",
    "    # DC Recovered Model z-section\n",
    "    ax3 = fig.add_axes([pos.x0+0.3, pos.y0,  pos.width, pos.height])\n",
    "    ax3,dat3 = ax = viz(mesh, sigopt, indz, airind, normal=\"Z\", xc=xc,yc=yc,zc=zc, ax=ax3, cb=False, clim=(vmin, vmax), pltshow=False)\n",
    "    plt.gca().set_aspect('equal')\n",
    "    ax3.set_title((\"Slice at z=%.1f m\")%(mesh.vectorCCz[indz]))\n",
    "    ax3.xaxis.set_visible(False)\n",
    "    ax3.yaxis.set_visible(False)\n",
    "    ax3.set_xlim(xmin, xmax)\n",
    "    ax3.set_ylim(ymin, ymax)\n",
    "\n",
    "    # DC Recovered Model y-section\n",
    "    ax4 = fig.add_axes([pos.x0+0.3525, pos.y0 - 0.36,  pos.width*0.725, pos.height])\n",
    "    ax4, dat4 = viz(mesh, sigopt, indy, airind,  normal=\"Y\", xc=xc,yc=yc,zc=zc, ax=ax4, cb=False, clim=(vmin, vmax), pltshow=False)\n",
    "    plt.gca().set_aspect('equal')\n",
    "    ax4.set_title((\"Slice at y=%.1f m\")%(mesh.vectorCCy[indy]))\n",
    "    ax4.yaxis.set_visible(False)\n",
    "    ax4.set_xlim(xmin, xmax)\n",
    "    ax4.set_ylim(zmin, zmax) \n",
    "    ax4.set_xticks(map(int, x))\n",
    "    ax4.set_xticklabels(map(str, map(int, x)),size=12)\n",
    "    ax4.set_xlabel('Easting (m)')\n",
    "\n",
    "    pos =  ax4.get_position()\n",
    "    cbarax = fig.add_axes([pos.x0-0.15 , pos.y0-0.01 ,  pos.width, pos.height*0.05])  ## the parameters are the specified position you set\n",
    "    cb = fig.colorbar(dat4[0],cax=cbarax, orientation=\"horizontal\", ax = ax4, ticks=np.linspace(vmin,vmax, 4), format=\"1.e%.f\")\n",
    "    cb.set_label(\"Conductivity (S/m)\",size=12)\n",
    "    plt.show()"
   ]
  },
  {
   "cell_type": "code",
   "execution_count": 9,
   "metadata": {
    "collapsed": true
   },
   "outputs": [],
   "source": [
    "def viz(mesh, sigma, ind, airind, normal=\"Z\", ax=None, label=\"Conductivity (S/m)\", scale=\"log\", clim=(-4, -1), xc=0, yc=0,zc=0., cb=True, pltshow=True):\n",
    "    if normal == \"Z\":\n",
    "        if ax is None:\n",
    "            fig = plt.figure(figsize=(5*1.2, 5))\n",
    "            ax = plt.subplot(111)\n",
    "    else:\n",
    "        if ax is None:\n",
    "            fig = plt.figure(figsize=(5*1.2, 2.5))\n",
    "            ax = plt.subplot(111)\n",
    "\n",
    "    temp = sigma.copy()\n",
    "\n",
    "    if scale == \"log\":\n",
    "        temp = np.log10(temp)\n",
    "\n",
    "    temp[airind] = np.nan\n",
    "\n",
    "    dat = mesh.plotSlice(temp, ind=ind, clim=clim, normal=normal, grid=False, pcolorOpts={\"cmap\":\"viridis\"}, ax=ax)\n",
    "    if normal == \"Z\":\n",
    "        ax.set_xlabel(\"Easting (m)\")\n",
    "        ax.set_ylabel(\"Northing (m)\")\n",
    "        xmin, xmax = -500+xc, 500+xc\n",
    "        ymin, ymax = -500+yc, 500.+yc\n",
    "        ax.set_title((\"Elevation at %.1f m\")%(mesh.vectorCCz[ind]))\n",
    "    elif normal == \"Y\":\n",
    "        ax.set_xlabel(\"Easting (m)\")\n",
    "        ax.set_ylabel(\"Elevation (m)\")\n",
    "        xmin, xmax = -500+xc, 500+xc\n",
    "        ymin, ymax = -500+zc, 0.+zc\n",
    "        ax.set_title((\"Northing at %.1f m\")%(mesh.vectorCCy[ind]))\n",
    "\n",
    "    ax.yaxis.set_major_formatter(FormatStrFormatter('%.0f'))\n",
    "    ax.xaxis.set_major_formatter(FormatStrFormatter('%.0f'))\n",
    "    ax.set_xticks(np.linspace(xmin, xmax, 3))\n",
    "    ax.set_yticks(np.linspace(ymin, ymax, 3))\n",
    "    ax.set_xlim(xmin, xmax)\n",
    "    ax.set_ylim(ymin, ymax)\n",
    "    # plt.tight_layout()\n",
    "\n",
    "    if scale == \"log\":\n",
    "        cbformat = \"$10^{%1.1f}$\"\n",
    "    elif scale == \"linear\":\n",
    "        cbformat = \"%.1e\"\n",
    "\n",
    "    if clim is None:\n",
    "        vmin, vmax = dat[0].get_clim()\n",
    "    else:\n",
    "        vmin, vmax = clim[0], clim[1]\n",
    "\n",
    "    if cb:\n",
    "        cb = plt.colorbar(dat[0], format=cbformat, ticks=np.linspace(vmin, vmax, 3))\n",
    "        cb.set_label(label)\n",
    "    if pltshow:\n",
    "        plt.show()\n",
    "    return ax, dat"
   ]
  },
  {
   "cell_type": "code",
   "execution_count": 10,
   "metadata": {},
   "outputs": [
    {
     "data": {
      "application/vnd.jupyter.widget-view+json": {
       "model_id": "1020e8a092b040f28e2ffdbff97a2c65"
      }
     },
     "metadata": {},
     "output_type": "display_data"
    },
    {
     "data": {
      "text/plain": [
       "<function __main__.<lambda>>"
      ]
     },
     "execution_count": 10,
     "metadata": {},
     "output_type": "execute_result"
    }
   ],
   "source": [
    "interact(lambda indz,indy: compareTrueRecoveredMod(indz,indy), indz=IntSlider(min=0, max=mesh.nCz-1,step=1, value=28), indy=IntSlider(min=0, max=mesh.nCy-1,step=1, value=31))"
   ]
  },
  {
   "cell_type": "markdown",
   "metadata": {},
   "source": [
    "### Plot observed and predicted data to evaluate how well the recovered model fits the observed data."
   ]
  },
  {
   "cell_type": "code",
   "execution_count": 11,
   "metadata": {
    "collapsed": true
   },
   "outputs": [],
   "source": [
    "Xx = 0.5*(Mx[:,0]+Nx[:,0]).reshape((23, 24), order=\"F\")\n",
    "Yx = Mx[:,1].reshape((23, 24), order=\"F\")"
   ]
  },
  {
   "cell_type": "code",
   "execution_count": 12,
   "metadata": {
    "collapsed": true
   },
   "outputs": [],
   "source": [
    "def vizdata(data, src, rx, rxcomponent=\"X\", clim=None, title=None, figsave=None, ax=None, cb=True,cbOrient=\"vertical\"):\n",
    "    if ax is None:\n",
    "        fig = plt.figure(figsize=(6.8, 5.5))\n",
    "        ax = plt.subplot(111)\n",
    "\n",
    "    temp = data[src, rx]\n",
    "    if rxcomponent==\"X\":\n",
    "        X = Xx.copy()\n",
    "        Y = Yx.copy()\n",
    "    else:\n",
    "        X = Xy.copy()\n",
    "        Y = Yy.copy()\n",
    "    temp = temp.reshape(X.shape, order=\"F\")\n",
    "    if clim is not None:\n",
    "        vmin, vmax = clim[0], clim[1]\n",
    "        dat = ax.contourf(X, Y, temp, 20, clim=clim, vmin=vmin, vmax=vmax, cmap=\"plasma\")\n",
    "        ax.contour(X, Y, temp, 10, colors=\"k\")\n",
    "    else:\n",
    "        vmin, vmax = temp.min(), temp.max()\n",
    "        dat = ax.contourf(X, Y, temp, 20, cmap=\"plasma\")\n",
    "        ax.contour(X, Y, temp, 10, colors=\"k\")\n",
    "        \n",
    "    if title is not None:\n",
    "        ax.set_title(title)\n",
    "    xmin, xmax = X.min(), X.max()\n",
    "    ymin, ymax = Y.min(), Y.max()            \n",
    "    ax.set_xlabel(\"Easting (m)\")\n",
    "    ax.set_ylabel(\"Northing (m)\")\n",
    "    ax.yaxis.set_major_formatter(FormatStrFormatter('%.0f'))\n",
    "    ax.xaxis.set_major_formatter(FormatStrFormatter('%.0f'))\n",
    "    ax.set_xticks(np.linspace(xmin, xmax, 3))\n",
    "    ax.set_yticks(np.linspace(ymin, ymax, 3))\n",
    "    ax.set_xlim(xmin, xmax)\n",
    "    ax.set_ylim(ymin, ymax)            \n",
    "    \n",
    "    if cb:\n",
    "        cb = plt.colorbar(dat, orientation=cbOrient, ticks=np.linspace(vmin, vmax, 3), format=\"%.1e\")\n",
    "        cb.set_label(\"Potential (V)\")\n",
    "        \n",
    "    if figsave is not None:\n",
    "        fig.savefig(figsave, dpi=200)\n",
    "    return ax\n",
    "    "
   ]
  },
  {
   "cell_type": "code",
   "execution_count": 13,
   "metadata": {},
   "outputs": [
    {
     "data": {
      "text/plain": [
       "<matplotlib.text.Text at 0x12d8d6250>"
      ]
     },
     "execution_count": 13,
     "metadata": {},
     "output_type": "execute_result"
    },
    {
     "data": {
      "image/png": "[encoded data removed]",
      "text/plain": [
       "<matplotlib.figure.Figure at 0x12c387910>"
      ]
     },
     "metadata": {},
     "output_type": "display_data"
    }
   ],
   "source": [
    "fig = plt.figure(figsize=(11, 5.5))\n",
    "xmin, xmax = -300+xc, 300+xc\n",
    "ymin, ymax = -300+yc, 300+yc\n",
    "indz = 28\n",
    "dataObs = Survey.Data(survey, v=survey.dobs)\n",
    "preddata = Survey.Data(survey, v=dpred)\n",
    "# Axis label\n",
    "x = np.linspace(xmin+100, xmax-100,3)\n",
    "\n",
    "# DC observed data\n",
    "ax1 = plt.subplot(1,1,1)\n",
    "pos =  ax1.get_position()\n",
    "ax1.set_position([pos.x0-0.4, pos.y0,  pos.width, pos.height])\n",
    "ax1 = vizdata(dataObs, src1, rx_x, ax=ax1, rxcomponent=\"X\", title=\"Observed DC Data\", clim=(4.5e-3, 4.8e-1), cb=False)\n",
    "plt.gca().set_aspect('equal')\n",
    "ax1.set_xlim(xmin, xmax)\n",
    "ax1.set_ylim(ymin, ymax)   \n",
    "ax1.set_xticks(map(int, x))\n",
    "ax1.set_xticklabels(map(str, map(int, x)),size=14)\n",
    "ax1.set_xlabel('Easting (m)')\n",
    "ax1.set_ylabel('Northing (m)')\n",
    "\n",
    "# DC Predicted data\n",
    "ax2 = fig.add_axes([pos.x0, pos.y0,  pos.width, pos.height])\n",
    "ax2 = vizdata(preddata, src1, rx_x, ax=ax2, rxcomponent=\"X\", title=\"Predicted DC Data\", clim=(4.5e-3, 4.8e-1))\n",
    "plt.gca().set_aspect('equal')\n",
    "ax2.yaxis.set_visible(False)\n",
    "ax2.set_xlim(xmin, xmax)\n",
    "ax2.set_ylim(ymin, ymax)\n",
    "ax2.set_xticks(map(int, x))\n",
    "ax2.set_xticklabels(map(str, map(int, x)),size=14)\n",
    "ax2.set_xlabel('Easting (m)')"
   ]
  }
 ],
 "metadata": {
  "anaconda-cloud": {},
  "kernelspec": {
   "display_name": "Python [default]",
   "language": "python",
   "name": "python2"
  },
  "language_info": {
   "codemirror_mode": {
    "name": "ipython",
    "version": 2
   },
   "file_extension": ".py",
   "mimetype": "text/x-python",
   "name": "python",
   "nbconvert_exporter": "python",
   "pygments_lexer": "ipython2",
   "version": "2.7.13"
  },
  "nbpresent": {
   "slides": {},
   "themes": {
    "default": "c2adb684-3ef3-4624-a80f-6d2cd0aa2d3a",
    "theme": {
     "95e7f9b9-9e51-405a-88d7-f94cf20b3bb3": {
      "id": "95e7f9b9-9e51-405a-88d7-f94cf20b3bb3",
      "palette": {
       "19cc588f-0593-49c9-9f4b-e4d7cc113b1c": {
        "id": "19cc588f-0593-49c9-9f4b-e4d7cc113b1c",
        "rgb": [
         252,
         252,
         252
        ]
       },
       "31af15d2-7e15-44c5-ab5e-e04b16a89eff": {
        "id": "31af15d2-7e15-44c5-ab5e-e04b16a89eff",
        "rgb": [
         68,
         68,
         68
        ]
       },
       "50f92c45-a630-455b-aec3-788680ec7410": {
        "id": "50f92c45-a630-455b-aec3-788680ec7410",
        "rgb": [
         155,
         177,
         192
        ]
       },
       "c5cc3653-2ee1-402a-aba2-7caae1da4f6c": {
        "id": "c5cc3653-2ee1-402a-aba2-7caae1da4f6c",
        "rgb": [
         43,
         126,
         184
        ]
       },
       "efa7f048-9acb-414c-8b04-a26811511a21": {
        "id": "efa7f048-9acb-414c-8b04-a26811511a21",
        "rgb": [
         25.118061674008803,
         73.60176211453744,
         107.4819383259912
        ]
       }
      },
      "rules": {
       "blockquote": {
        "color": "50f92c45-a630-455b-aec3-788680ec7410"
       },
       "code": {
        "font-family": "Anonymous Pro"
       },
       "h1": {
        "color": "c5cc3653-2ee1-402a-aba2-7caae1da4f6c",
        "font-family": "Lato",
        "font-size": 8
       },
       "h2": {
        "color": "c5cc3653-2ee1-402a-aba2-7caae1da4f6c",
        "font-family": "Lato",
        "font-size": 6
       },
       "h3": {
        "color": "50f92c45-a630-455b-aec3-788680ec7410",
        "font-family": "Lato",
        "font-size": 5.5
       },
       "h4": {
        "color": "c5cc3653-2ee1-402a-aba2-7caae1da4f6c",
        "font-family": "Lato",
        "font-size": 5
       },
       "h5": {
        "font-family": "Lato"
       },
       "h6": {
        "font-family": "Lato"
       },
       "h7": {
        "font-family": "Lato"
       },
       "pre": {
        "font-family": "Anonymous Pro",
        "font-size": 4
       }
      },
      "text-base": {
       "font-family": "Merriweather",
       "font-size": 4
      }
     },
     "c2adb684-3ef3-4624-a80f-6d2cd0aa2d3a": {
      "backgrounds": {
       "dc7afa04-bf90-40b1-82a5-726e3cff5267": {
        "background-color": "31af15d2-7e15-44c5-ab5e-e04b16a89eff",
        "id": "dc7afa04-bf90-40b1-82a5-726e3cff5267"
       }
      },
      "id": "c2adb684-3ef3-4624-a80f-6d2cd0aa2d3a",
      "palette": {
       "19cc588f-0593-49c9-9f4b-e4d7cc113b1c": {
        "id": "19cc588f-0593-49c9-9f4b-e4d7cc113b1c",
        "rgb": [
         252,
         252,
         252
        ]
       },
       "31af15d2-7e15-44c5-ab5e-e04b16a89eff": {
        "id": "31af15d2-7e15-44c5-ab5e-e04b16a89eff",
        "rgb": [
         68,
         68,
         68
        ]
       },
       "50f92c45-a630-455b-aec3-788680ec7410": {
        "id": "50f92c45-a630-455b-aec3-788680ec7410",
        "rgb": [
         197,
         226,
         245
        ]
       },
       "c5cc3653-2ee1-402a-aba2-7caae1da4f6c": {
        "id": "c5cc3653-2ee1-402a-aba2-7caae1da4f6c",
        "rgb": [
         43,
         126,
         184
        ]
       },
       "efa7f048-9acb-414c-8b04-a26811511a21": {
        "id": "efa7f048-9acb-414c-8b04-a26811511a21",
        "rgb": [
         25.118061674008803,
         73.60176211453744,
         107.4819383259912
        ]
       }
      },
      "rules": {
       "a": {
        "color": "19cc588f-0593-49c9-9f4b-e4d7cc113b1c"
       },
       "blockquote": {
        "color": "50f92c45-a630-455b-aec3-788680ec7410",
        "font-size": 3
       },
       "code": {
        "font-family": "Anonymous Pro"
       },
       "h1": {
        "color": "19cc588f-0593-49c9-9f4b-e4d7cc113b1c",
        "font-family": "Merriweather",
        "font-size": 8
       },
       "h2": {
        "color": "19cc588f-0593-49c9-9f4b-e4d7cc113b1c",
        "font-family": "Merriweather",
        "font-size": 6
       },
       "h3": {
        "color": "50f92c45-a630-455b-aec3-788680ec7410",
        "font-family": "Lato",
        "font-size": 5.5
       },
       "h4": {
        "color": "c5cc3653-2ee1-402a-aba2-7caae1da4f6c",
        "font-family": "Lato",
        "font-size": 5
       },
       "h5": {
        "font-family": "Lato"
       },
       "h6": {
        "font-family": "Lato"
       },
       "h7": {
        "font-family": "Lato"
       },
       "li": {
        "color": "50f92c45-a630-455b-aec3-788680ec7410",
        "font-size": 3.25
       },
       "pre": {
        "font-family": "Anonymous Pro",
        "font-size": 4
       }
      },
      "text-base": {
       "color": "19cc588f-0593-49c9-9f4b-e4d7cc113b1c",
       "font-family": "Lato",
       "font-size": 4
      }
     }
    }
   }
  },
  "widgets": {
   "state": {
    "03e87623bad1493ea91168642d420796": {
     "views": [
      {
       "cell_index": 11
      }
     ]
    },
    "0a124c3e47c74519a1d046a0c7cf5c66": {
     "views": []
    },
    "0e0fcde6c7d6437f85c7028669f2e37f": {
     "views": [
      {
       "cell_index": 11
      }
     ]
    },
    "106062cb584249aa8bf822cd35514816": {
     "views": []
    },
    "1104d738912a40139aedda243f2dcb8d": {
     "views": []
    },
    "11879a439671437d92ef93411e7bde5e": {
     "views": []
    },
    "12f1c4981d224fbaa50b83836060795b": {
     "views": []
    },
    "1586691e84494fb3934898da7093feb0": {
     "views": []
    },
    "1787d5c48cbf4268a49847e3ff5cb494": {
     "views": []
    },
    "1f4d45e2464f42edb42d326f483a5873": {
     "views": []
    },
    "23df9e77e8bf4bfbbcc49009942c2d12": {
     "views": []
    },
    "26f9623213b84213a3e33ff1f01f6a58": {
     "views": []
    },
    "27ddb394355840a0a92b3e92f84c7d8e": {
     "views": []
    },
    "2ed48f54934c4fc981dec4fc70f414bc": {
     "views": []
    },
    "3420e16634d04ae1b7709225983da4f8": {
     "views": []
    },
    "3a6441775a474bafba09e5262b1a5bcd": {
     "views": []
    },
    "480ed9a671c94d5fbd9c8379fe36a906": {
     "views": []
    },
    "4a7f2ff7526b472792db75a903bd31cb": {
     "views": []
    },
    "63932266072e46ef8f00f4322dc74b7e": {
     "views": []
    },
    "63b9addc88764fe184cd678bf3ce22fa": {
     "views": []
    },
    "67bbabac97f8406fb44424ebf4336162": {
     "views": []
    },
    "74117bf440124249b09afbe43798d5c8": {
     "views": []
    },
    "7d61b097ca924f3a809d4a2f61ca8f40": {
     "views": []
    },
    "7e73d3b01a68438ab8e8aea1788b09be": {
     "views": []
    },
    "7f203df8840c4f35b0f4d47ec792a2a7": {
     "views": []
    },
    "820ed5eee997462c8676a34711c50bc0": {
     "views": []
    },
    "855e40f33bc64d74b1947efa911c4d88": {
     "views": []
    },
    "89f28baada1247deb1f73a10be8ab5ba": {
     "views": []
    },
    "8bc3aa48198c43ff9f510d5e0466a82b": {
     "views": []
    },
    "90c9b69fe76a462fb32eb918d4a6b887": {
     "views": [
      {
       "cell_index": 27
      }
     ]
    },
    "935356a43bde47fea06ac3c174edf565": {
     "views": []
    },
    "9ccc81f7616e4eb8bc1b077f9ce6f2b4": {
     "views": []
    },
    "a5b38d3fddb34f6098e4fd27739c2bea": {
     "views": []
    },
    "ae833fa83ce549b6860e7be458690365": {
     "views": []
    },
    "af2188b8bbd940ecaf1d2797f9c171dc": {
     "views": []
    },
    "b38779d0674d441ca487e955c13a3e92": {
     "views": []
    },
    "bc1591fa2a1a441bbe7716eb23b65ddf": {
     "views": []
    },
    "bc2d023bdafc4292bce8c00b1d09bba5": {
     "views": []
    },
    "bdc4994cedef459190aeda62d2eb6e4e": {
     "views": []
    },
    "bee8595135aa46128e28327363e00f30": {
     "views": []
    },
    "c546d48f0fba414a878afd24de1158b1": {
     "views": []
    },
    "d2027bae72674298b8f5d764ffd87d97": {
     "views": []
    },
    "d634682ec7e94cb59b4888695659e39c": {
     "views": [
      {
       "cell_index": 27
      }
     ]
    },
    "d890cb81b0ba40cdb6cbfa9e12b74dff": {
     "views": []
    },
    "da8a0e2c6b79446f928c35d6d409c03e": {
     "views": [
      {
       "cell_index": 17
      }
     ]
    },
    "db8ec1c3cb6b44d89b920c50b5e633c4": {
     "views": [
      {
       "cell_index": 12
      }
     ]
    },
    "df4cefe282874854b76c26d69006857d": {
     "views": []
    },
    "e07419033a8345d19b3da529f57dc67c": {
     "views": []
    },
    "e12376bb6a2645fa80d34f8eae42d800": {
     "views": []
    },
    "e64201e225144fbf9900ab080f9a740d": {
     "views": []
    },
    "e8cd6eaecf884f6698c559e73a9acd76": {
     "views": []
    },
    "eebad867f7464300bcc7d70185f796db": {
     "views": []
    },
    "eef167a5d9b34c65857a180b8b4422c5": {
     "views": []
    },
    "f42de710b1e545c8920eedbdce980ccd": {
     "views": []
    },
    "f569c753f9f64c7ea771dfb0472a8641": {
     "views": []
    },
    "fee059de8d4845e58dd35a0886462f2a": {
     "views": []
    }
   },
   "version": "1.1.2"
  }
 },
 "nbformat": 4,
 "nbformat_minor": 1
}
