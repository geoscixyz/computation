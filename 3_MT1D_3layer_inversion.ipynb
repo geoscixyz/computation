{
 "cells": [
  {
   "cell_type": "markdown",
   "metadata": {},
   "source": [
    "**Getting Started**\n",
    "\n",
    "This tutorial relies on standard python packages as well as [SimPEG](http://simpeg.xyz). If you do not have SimPEG installed, you can uncomment the next line and install it from [pypi](https://pypi.python.org/pypi/SimPEG).\n",
    "\n",
    "The second package we are installing is [pymatsolver](https://github.com/rowanc1/pymatsolver), which interfaces to sparse matrix solvers. It is not required for the tutorial, we will fall-back to an LU solver, which is sufficient for this problem "
   ]
  },
  {
   "cell_type": "code",
   "execution_count": 1,
   "metadata": {
    "collapsed": true
   },
   "outputs": [],
   "source": [
    "# !pip install SimPEG\n",
    "# !pip install pymatsolver"
   ]
  },
  {
   "cell_type": "markdown",
   "metadata": {},
   "source": [
    "# Inversion: 1D Magnetotelluric Problem\n",
    "\n",
    "In the previous notebooks, we explored how to discretize the [1D MT problem](./1_MT1D_NumericalSetup.ipynb), how to design an appropriate mesh, and explored the [an example of non-uniquness](./2_MT1D_ForwardModellingAndNonuniqueness.ipynb). In this notebook, we will put those concepts to use and set up a 1D inversion. \n",
    "\n",
    "The aim of this notebook is to highlight the elements we use to set up and solve the inverse problem, in the notebook that follows this, we will dive futher into the impact of various parameter choices (eg. the trade-off parameter $\\beta$, the stopping criteria, noise model and regulariztion parameters). "
   ]
  },
  {
   "cell_type": "markdown",
   "metadata": {},
   "source": [
    "## Inversion as Optimization\n",
    "\n",
    "We will use deterministic approach and pose the inverse problem as an optimization problem of the form \n",
    "\n",
    "$$\n",
    "\\min_{\\mathbf{m}} \\phi(\\mathbf{m}) = \\phi_d(\\mathbf{m}) + \\beta\\phi_m(\\mathbf{m})\n",
    "$$\n",
    "\n",
    "where:\n",
    "- $\\mathbf{m}$ is our model - the vector of numbers that describes our earth model. It is what we are solving for in the inversion\n",
    "- $\\phi_d(\\mathbf{m})$ is the data misfit\n",
    "- $\\phi_m(\\mathbf{m})$ is the regularization\n",
    "- $\\beta$ is a trade-off parameter\n",
    "\n",
    "### Data Misfit\n",
    "\n",
    "The data misfit, $\\phi_d(\\mathbf{m})$, is often taken to be a weighted $\\ell_2$-norm, where the weights capture the noise model (eg. we want to assign higher weights and do a good job fitting data that we are confident are less noisy, and assign less weight / influence to data that are noisy). The $\\ell_2$ norm is the correct norm to choose when noise is Gaussian (or approximately Gaussian, or if you have no additional information and assume it is Gaussian). An $\\ell_2$ data misfit is captured mathematically by  \n",
    "\n",
    "$$\n",
    "\\phi_d(\\mathbf{m}) = \\frac{1}{2}\\|\\mathbf{W_d} (\\mathcal{F}(\\mathbf{m}) - \\mathbf{d}^{\\text{obs}})\\|^2\n",
    "$$\n",
    "\n",
    "where \n",
    "\n",
    "- $\\mathbf{W_d} = \\text{diag}(1/\\boldsymbol{\\epsilon})$ is a diagonal matrix with diagonal entries $1/\\epsilon_i$, where $\\epsilon_i$ is an estimated standard deviation of the $i$th datum.\n",
    "- $\\mathcal{F}$ is the forward modelling operator that simulates the 1D MT response given a model\n",
    "- $\\mathbf{m}$ is the model: the set of parameters which describe the physical properties of the layered earth\n",
    "- $\\mathbf{d}^{\\text{obs}}$ is the observed data\n",
    "\n",
    "(The factor of $1/2$ and the choice of using the squared-norm is a matter of convienence. We will be using gradient based optimzation methods, so it is easier to take derivatives of a norm squared than a norm.)\n",
    "\n",
    "### Regularization\n",
    "The inverse problem is an [ill posed problem](https://en.wikipedia.org/wiki/Well-posed_problem). There are multiple (actually infinitely many!) models that can fit the data.  There are a couple ways to observe this:\n",
    "\n",
    "- Mathematically: If we start by thinking about a linear problem $\\mathbf{G}\\mathbf{m} = \\mathbf{d}$, the matrix $\\mathbf{G}$ is wide, so it is not directly invertible (eg. see Matt Hall's [Linear Inversion Tutorial](http://library.seg.org/doi/full/10.1190/tle35121085.1)). Here, we are dealing with a non-linear system of equations, but the principle is the same. \n",
    "\n",
    "- An Example: In the [Forward Modelling and Nonuniqueness notebook](2_MT1D_ForwardModellingAndNonuniqueness.ipynb), we used forward modelling to demonstrate non-uniquness with the conductivity-thickness product of a single, conductive layer, and this is a very simple model compared to most geologic settings! \n",
    "\n",
    "Thus, to choose from the infinitely many solutions and arrive at a sensible one, we employ a regularization: $\\phi_m$. Tikhonov regularization, which again employs $\\ell_2$-norms, is a standard choice (It has a few nice features: it is convex and easy to differentiate). It takes the form: \n",
    "$$\n",
    "\\phi_m(\\mathbf{m}) = \\frac{1}{2}\\big(\\alpha_s\\|\\mathbf{W_s} (\\mathbf{m} - \\mathbf{m}_{\\text{ref}})\\|^2 + \\alpha_z\\|\\mathbf{W_z} (\\mathbf{m})\\|^2 \\big)\n",
    "$$\n",
    "\n",
    "The first term is often referred to as the \"smallness\" as it measures the \"size\" of the model (in the $\\ell_2$ sense). The matrix $\\mathbf{W_s}$ is generally taken to be a diagonal matrix that may contain information about the length scales of the model or be used to weight the relative importance of various parameters in the model. The scalar $\\alpha_s$ weights the relative importance of this term in the regularization. Notice that we include a reference model ($\\mathbf{m}_{\\text{ref}}$. Often this is defined as a constant value, but if more information is known about the background, that can be used to construct a reference model. Note that saying \"I am not going to use a reference model\" means that you are actually using $\\mathbf{m}_{\\text{ref}} = 0$, this is important to realize... in the inversion we demonstrate here, our `model` will be $\\mathbf{m} = \\text{log}(\\sigma)$. If we set $\\mathbf{m}_{\\text{ref}} = 0$, then we are favoring models close to 1 S/m - which is quite conductive! \n",
    "\n",
    "The second term is often referred to as the \"smoothness\". The matrix $\\mathbf{W_z}$ approximate the derivative of the model with respect to depth, and is hense a measure of how \"smooth\" the model is. The term $\\alpha_z$ weights its relative importance in the regularization. \n",
    "\n",
    "\n",
    "## In this notebook...\n",
    "\n",
    "Although we pose the inverse problem as an optimization problem, we aren't necessarily going to solve to a true minimum. There are always uncertainties with the data, so there is no point trying to drive $\\phi_d$ to its true minimium - we would end up introducing structures in the model to fit the data (we will explore this here). So another choice that has to be made when setting up an inversion is where to stop. \n",
    "\n",
    "In this notebook, we will walk through how to set up an inversion and discuss one of the knobs:\n",
    "- The $\\beta$ knob: How well should we fit the data verses the regularization? Which $\\beta$ value provides us the right balance? eg. When do we achieve the target misfit $\\phi_d^*$?\n",
    "- The $\\alpha$ knob: Tuning the **regularization** ($\\alpha_s$, $\\alpha_z$): how _smooth_ or _small_ (in the $\\ell_2$-sense) do we want our model to be?\n",
    "\n",
    "We will also point out other parameters you can explore the impact of, including, \n",
    "- starting model $\\mathbf{m}_0$\n",
    "- reference model $\\mathbf{m}_{\\text{ref}}$\n",
    "- designing a $\\beta$-cooling schedule\n",
    "\n",
    "In the [next notebook](./4_MT1D_5layer_inversion.ipynb) we will dive further into the $\\alpha$ knob. \n",
    "\n",
    "**A Note**\n",
    "\n",
    "We will employ second-order optimization methods, meaning we have to be able to both simulate data and compute derivatives. We will take those steps for granted in this notebook, but if you are curious to look under the hood and see how sensitivities are computed for this problem, have a look at the [Sensitivities Notebook](./Appendix_A_MT1D_Sensitivity.ipynb).  "
   ]
  },
  {
   "cell_type": "code",
   "execution_count": 2,
   "metadata": {
    "collapsed": true
   },
   "outputs": [],
   "source": [
    "import numpy as np\n",
    "import matplotlib.pyplot as plt\n",
    "from scipy.constants import mu_0\n",
    "from SimPEG import (\n",
    "    Mesh, Maps, SolverLU, DataMisfit, Regularization,\n",
    "    Optimization, InvProblem, Inversion, Directives, Utils\n",
    ")\n",
    "\n",
    "try:\n",
    "    from pymatsolver import PardisoSolver as Solver\n",
    "except importError:\n",
    "    from SimPEG import SolverLU as Solver\n",
    "\n",
    "# the following are described in the Sensitivity notebooks\n",
    "from MT1D import MT1DProblem, MT1DSurvey, MT1DSrc, ZxyRx, Survey, AppResPhaRx\n",
    "\n",
    "%matplotlib inline"
   ]
  },
  {
   "cell_type": "markdown",
   "metadata": {},
   "source": [
    "## Forward Simulation\n",
    "\n",
    "### Parmeters\n",
    "Now, we define our model parameters and survey setup. This includes defining\n",
    "- location of receivers\n",
    "- frequencies we are sampling\n",
    "- type of dat we are measuring (impedance or apparent resistivity and phase)\n",
    "\n",
    "Similar to the model shown in [1_MT1D_NumericalSetup.ipynb](./1_MT1D_NumericalSetup.ipynb) and [2_MT1D_ForwardModellingAndNonuniqueness](./2_MT1D_ForwardModellingAndNonuniqueness.ipynb), we will start by considering a simple model which consists of 2 units: the background and a conductive layer (the layer). "
   ]
  },
  {
   "cell_type": "code",
   "execution_count": 3,
   "metadata": {
    "collapsed": true
   },
   "outputs": [],
   "source": [
    "rho_half = 100.  # resistivity of the half space\n",
    "rho_target = 10.  # resistivity of the target layer\n",
    "depth = 2000.  # depth to the top of the target layer\n",
    "thickness = 1000.   # thickness of the target layer"
   ]
  },
  {
   "cell_type": "code",
   "execution_count": 4,
   "metadata": {
    "collapsed": true
   },
   "outputs": [],
   "source": [
    "rxloc = np.r_[0.]   \n",
    "frequency = np.logspace(-3, 2, 25)"
   ]
  },
  {
   "cell_type": "markdown",
   "metadata": {},
   "source": [
    "### Survey\n",
    "Next, we set up a `survey` object. Here we are following the SimPEG approach and define \n",
    "- a receiver object: given fields found from a simulation, it has the machinery to compute data. An impedance receiver `ZxyRx` calculates the ratio of $E_x$ and $H_y$ from calculated electric and magnetic fields (both real and imaginary components)\n",
    "- a source object: this provides the right-hand-side for our MT problem. This is a plane wave source with at the specified frequency. \n",
    "\n",
    "These are combined in a `survey`. "
   ]
  },
  {
   "cell_type": "code",
   "execution_count": 5,
   "metadata": {
    "collapsed": true
   },
   "outputs": [],
   "source": [
    "# Create a receiver object \n",
    "rx = ZxyRx(\n",
    "    rxloc, # location of the receiver \n",
    "    component=\"both\",  # measure both the real and imaginary components of the impedance (alternatively \"real\" / \"imag\")\n",
    "    frequency=frequency\n",
    ")\n",
    "\n",
    "# create a plane wave source\n",
    "src = MT1DSrc([rx])\n",
    "\n",
    "# define a survey\n",
    "survey = MT1DSurvey([src])"
   ]
  },
  {
   "cell_type": "markdown",
   "metadata": {},
   "source": [
    "### Mesh\n",
    "\n",
    "In the [Forward Modelling and Nonuniqueness notebook](2_MT1D_ForwardModellingAndNonuniqueness.ipynb), we discussed how to design a mesh that extends sufficiently far and has fine enough cells near the surface to accurately simulate the MT response across the frequency range of interest. We have wrapped up that knowledge in the utility function `setMesh` "
   ]
  },
  {
   "cell_type": "code",
   "execution_count": 6,
   "metadata": {},
   "outputs": [
    {
     "name": "stdout",
     "output_type": "stream",
     "text": [
      ">> Smallest cell size = 50 m\n",
      ">> Padding distance = 316227 m\n",
      ">> # of padding cells 28\n",
      ">> # of core cells cells 100\n"
     ]
    }
   ],
   "source": [
    "max_depth_core = 5000.\n",
    "mesh = survey.setMesh(\n",
    "    sigma=1./rho_half,  # conductivity of the background\n",
    "    max_depth_core=max_depth_core,  # extent of the core region of the mesh\n",
    "    ncell_per_skind=10,  # number of cells per the smallest skin depth\n",
    "    n_skind=2,  # number of skin depths that the mesh should extend to ensure the lowest-frequency fields have decayed\n",
    "    core_meshType = \"linear\",  # cell spacings in the core region of the mesh (\"linear\" or \"log\")\n",
    "    max_hz_core=None  # If using a logarithmic core mesh, what is the maximum cell size?\n",
    ")"
   ]
  },
  {
   "cell_type": "code",
   "execution_count": 7,
   "metadata": {},
   "outputs": [
    {
     "data": {
      "image/png": "[encoded data removed]",
      "text/plain": [
       "<matplotlib.figure.Figure at 0x113ccc3d0>"
      ]
     },
     "metadata": {},
     "output_type": "display_data"
    }
   ],
   "source": [
    "# plot the mesh\n",
    "fig, ax = plt.subplots(1,1, figsize=(8, 3))\n",
    "mesh.plotGrid(centers=True, faces=True, ax=ax)\n",
    "ax.legend([\"centers\", \"faces\"])\n",
    "ax.invert_xaxis()  # so that the surface is on our left hand side\n",
    "ax.set_xlabel('z (m)')\n",
    "ax.grid(which=\"both\", linewidth=0.5)"
   ]
  },
  {
   "cell_type": "markdown",
   "metadata": {},
   "source": [
    "### Problem\n",
    "\n",
    "In the previous notebooks, we set up the machinery to solve the 1D MT problem. Here, we will use that functionality. Please see [Sensitivities Notebook](./3_MT1D_Sensitivity.ipynb) for further discussion on how `MT1DProblems` is set up. "
   ]
  },
  {
   "cell_type": "code",
   "execution_count": 8,
   "metadata": {
    "collapsed": true
   },
   "outputs": [],
   "source": [
    "prob = MT1DProblem(\n",
    "    mesh,  # The mesh contains the geometry, grids, etc necessary for constructing the discrete PDE system\n",
    "    sigmaMap=Maps.ExpMap(mesh),  # in the inversion, we want to invert for log-conductivity (enforces postivity, electrical conductivity tends to vary logarithmically)\n",
    "    verbose=False,  # print information as we are setting up and solving \n",
    "    Solver=Solver  # solver to employ for solving Ax = b\n",
    ")\n",
    "\n",
    "# tell the problem and survey about each other so we can construct our matrix system \n",
    "# and right hand-side\n",
    "prob.pair(survey)"
   ]
  },
  {
   "cell_type": "markdown",
   "metadata": {},
   "source": [
    "### Put the model on the mesh\n",
    "\n",
    "Physical properties are defined at cell centers, so there should be a `sigma` value for every cell center. Above, we defined our model as resisvitities (in units of $\\Omega m$), but for the inversion, we want to work in conductivities (in units of S/m), so we take the reciprocal ($\\sigma = 1/\\rho$)"
   ]
  },
  {
   "cell_type": "code",
   "execution_count": 9,
   "metadata": {
    "collapsed": true
   },
   "outputs": [],
   "source": [
    "sigma = np.ones(mesh.nC) * 1./rho_half\n",
    "\n",
    "# find the layer\n",
    "layer_inds = (mesh.vectorCCx<-depth)&(mesh.vectorCCx>-depth-thickness)\n",
    "sigma[layer_inds] = 1./rho_target"
   ]
  },
  {
   "cell_type": "code",
   "execution_count": 10,
   "metadata": {},
   "outputs": [
    {
     "data": {
      "text/plain": [
       "(0, -5000.0)"
      ]
     },
     "execution_count": 10,
     "metadata": {},
     "output_type": "execute_result"
    },
    {
     "data": {
      "image/png": "[encoded data removed]",
      "text/plain": [
       "<matplotlib.figure.Figure at 0x11686bf90>"
      ]
     },
     "metadata": {},
     "output_type": "display_data"
    }
   ],
   "source": [
    "# plot the model\n",
    "fig, ax = plt.subplots(1, 1, figsize=(8, 3))\n",
    "\n",
    "# trickery to plot from node to node rather than at cell centers\n",
    "z = np.repeat(mesh.vectorNx[1:-1], 2, axis=0)\n",
    "z = np.r_[mesh.vectorNx[0], z, mesh.vectorNx[-1]]\n",
    "sigma_plt = np.repeat(sigma, 2, axis=0)\n",
    "\n",
    "ax.semilogy(z, sigma_plt, \"k\", lw=2)\n",
    "ax.invert_xaxis() # plot the surface on the left\n",
    "ax.set_xlabel(\"Elevation (m)\", fontsize=14)\n",
    "ax.set_ylabel(\"Conductivity (S/m)\", fontsize=14)\n",
    "plt.grid(which='both', linewidth=0.5)\n",
    "plt.ylim(6e-3, 3e-1)\n",
    "plt.xlim(0, -max_depth_core)"
   ]
  },
  {
   "cell_type": "markdown",
   "metadata": {},
   "source": [
    "## Simulate 'Observed' Data\n",
    "\n",
    "Based on the conductivity structure plotted above, we will create synthetic data. These data will later be used in the inversion. \n",
    "\n",
    "In the inversion, the \"model\" that we will invert for is in $\\log(\\sigma)$. There are a couple of reasons for this: the electrical conductivity of earth materials can vary over several orders of magnitude, and electrical conductivity is always positive, so inverting for $\\log(\\sigma)$ enforces that. \n",
    "\n",
    "In SimPEG, the method `dpred` of the `survey` class solves the PDE and computes the data required by the receivers. "
   ]
  },
  {
   "cell_type": "code",
   "execution_count": 11,
   "metadata": {
    "collapsed": true
   },
   "outputs": [],
   "source": [
    "mtrue = np.log(sigma)  # since our \"model\" is log conductivity, we take the log\n",
    "dtrue = survey.dpred(mtrue)  # these are clean data (no noise yet.)"
   ]
  },
  {
   "cell_type": "markdown",
   "metadata": {},
   "source": [
    "Add noise to generate \"observed\" data"
   ]
  },
  {
   "cell_type": "code",
   "execution_count": 28,
   "metadata": {
    "collapsed": true
   },
   "outputs": [],
   "source": [
    "np.random.seed(1)  # set a seed to the results are reproducable\n",
    "std = 0.1  # standard deviation of the noise (10%)\n",
    "\n",
    "# add noise\n",
    "uncert = std * np.abs(dtrue)\n",
    "noise = uncert * np.random.randn(survey.nFreq*2)\n",
    "survey.dobs = dtrue + noise"
   ]
  },
  {
   "cell_type": "code",
   "execution_count": 29,
   "metadata": {
    "collapsed": true
   },
   "outputs": [],
   "source": [
    "# data are arranged (apparent resistivity, phase) for each frequency\n",
    "Zxy_real_true = dtrue.reshape((survey.nFreq, 2))[:,0]\n",
    "Zxy_imag_true = dtrue.reshape((survey.nFreq, 2))[:,1]\n",
    "\n",
    "Zxy_real_obs = survey.dobs.reshape((survey.nFreq, 2))[:,0]\n",
    "Zxy_imag_obs = survey.dobs.reshape((survey.nFreq, 2))[:,1]"
   ]
  },
  {
   "cell_type": "markdown",
   "metadata": {},
   "source": [
    "Although we will work with real and impaginary impedance values as our data in the inversion, it is a bit more intuitive to plot the data in terms of apparent resistivity (which hase units of resistivity, $\\Omega m$) and phase\n",
    "\n",
    "$$\n",
    "\\rho_a = \\frac{1}{\\mu_0\\omega} \\big|Z_{xy}\\big|^2\n",
    "$$\n",
    "\n",
    "$$\n",
    "\\phi = \\tan^{-1}\\left(\\frac{\\text{Im}(Z_{xy})}{\\text{Re}(Z_{xy})}\\right)\n",
    "$$\n"
   ]
  },
  {
   "cell_type": "code",
   "execution_count": 30,
   "metadata": {
    "collapsed": true
   },
   "outputs": [],
   "source": [
    "def omega(frequency):\n",
    "    \"\"\"\n",
    "    angular frequency\n",
    "    \"\"\"\n",
    "    return 2*np.pi*frequency\n",
    "\n",
    "def app_res_phase(Zxy_real, Zxy_imag, frequency):\n",
    "    \"\"\"\n",
    "    Compute apparent resistivity and phase given impedances (real and imaginary components)\n",
    "    and the frequency. \n",
    "    \"\"\"\n",
    "    app_res = abs(Zxy_real+1j*Zxy_imag)**2 / (mu_0*omega(frequency))\n",
    "    phase = np.rad2deg(np.arctan(Zxy_imag / Zxy_real))\n",
    "    return app_res, phase"
   ]
  },
  {
   "cell_type": "code",
   "execution_count": 31,
   "metadata": {
    "collapsed": true
   },
   "outputs": [],
   "source": [
    "# fetch the apparent resistivity and phase for the clean (true) and noisy (obs) data\n",
    "app_res_true, phase_true = app_res_phase(Zxy_real_true, Zxy_imag_true, frequency)\n",
    "app_res_obs, phase_obs = app_res_phase(Zxy_real_obs, Zxy_imag_obs, frequency)"
   ]
  },
  {
   "cell_type": "code",
   "execution_count": 32,
   "metadata": {},
   "outputs": [
    {
     "data": {
      "image/png": "[encoded data removed]",
      "text/plain": [
       "<matplotlib.figure.Figure at 0x11fdea1d0>"
      ]
     },
     "metadata": {},
     "output_type": "display_data"
    }
   ],
   "source": [
    "fig, ax = plt.subplots(2, 1, figsize=(8,6))\n",
    "\n",
    "# apparent resistivity\n",
    "ax[0].loglog(frequency, app_res_true, '-o', lw=2, label=\"clean\")\n",
    "ax[0].loglog(frequency, app_res_obs, 'k-', lw=2, label=\"noisy\")\n",
    "ax[0].set_ylabel(\"$\\\\rho_a \\ (\\Omega m)$\", fontsize = 14)\n",
    "ax[0].set_ylim([10, 3e2])\n",
    "\n",
    "# phase\n",
    "ax[1].semilogx(frequency, phase_true, '-o', lw=2, label=\"clean\")\n",
    "ax[1].semilogx(frequency, phase_obs, 'k-', lw=2, label=\"noisy\")\n",
    "ax[1].set_ylabel(\"Phase (degree)\")\n",
    "ax[1].set_ylim([0, 90])\n",
    "\n",
    "for a in ax:\n",
    "    a.grid(True, which='both')\n",
    "    a.legend()\n",
    "    a.set_xlim(frequency.max(), frequency.min())\n",
    "    a.set_xlabel(\"Frequency (Hz)\")\n",
    "\n",
    "plt.tight_layout()"
   ]
  },
  {
   "cell_type": "markdown",
   "metadata": {},
   "source": [
    "## Inverse Problem: Machinery\n",
    "\n",
    "Our setup of the inversion follows the [SimPEG framework](http://simpeg.xyz).  \n",
    "\n",
    "<img href=\"http://simpeg.xyz\" src=\"http://www.simpeg.xyz/img/simpeg/workflow.png\" width=400px>\n",
    "\n",
    "The \"inversion implementation\" consists of 8 modules, 3 of which we have already been working with. This is a very brief overview. For more details, see the [SimPEG docs](http://docs.simpeg.xyz)\n",
    "\n",
    "- `Mesh`: mesh geometry and differential operators\n",
    "- `Problem`: physics engine. contains the machinery to construct and solve the PDE\n",
    "- `Survey`: sources and receivers\n",
    "- `Data Misfit`: measure of how \"far\" the predicted data are from the observed data\n",
    "- `Regularization`: Regularization on the model. Here we use Tikhonov regularization\n",
    "- `InvProb`: statement of the inverse problem, brings together the data misfit and regularization to define an objective function that we minimize in the inversion\n",
    "- `Optimization`: algorithm we will use to perform the optimization in the inversion, here, we choose a gradient based approach\n",
    "- `Inversion`: Bring everything together to run the inversion. This includes `directives` which are instructions on updates that should be made during the course of the inversion (eg. cooling beta) and stopping criteria (eg. target misfit)"
   ]
  },
  {
   "cell_type": "code",
   "execution_count": 33,
   "metadata": {
    "collapsed": true
   },
   "outputs": [],
   "source": [
    "def run_MT1Dinv(\n",
    "    prob,  # 1D MT problem\n",
    "    survey,  # 1D MT survey with sources and receivers\n",
    "    mref,  # reference model\n",
    "    m0 = None,  # starting model\n",
    "    alpha_s=1.,  # smallness weight\n",
    "    alpha_z=1.,  # smoothness weight\n",
    "    beta0=1e1,  # trade off parameter\n",
    "    coolingFactor=1.5,  # cooling factor \n",
    "    coolingRate=1,  # cool beta after this many iterations \n",
    "    use_target=True,  # stop the inversion at the target misfit?\n",
    "    use_betaest=False,  # estimate an initial beta based on the the data misfit and regularization terms\n",
    "    beta0_ratio=None  # if we are estimating beta, how much should we favor the regularization?\n",
    "):\n",
    "    # if the starting model is not defined, use the reference model\n",
    "    if m0 is None:\n",
    "        m0 = mref\n",
    "    \n",
    "    # Data misfit\n",
    "    dmisfit = DataMisfit.l2_DataMisfit(survey)\n",
    "    dmisfit.W = 1./uncert\n",
    "    \n",
    "    # Regularization\n",
    "    reg = Regularization.Simple(prob.mesh, alpha_s=alpha_s, alpha_x=alpha_z) # since we are in 1D, we work with the first dimension\n",
    "    \n",
    "    # Optimization\n",
    "    opt = Optimization.InexactGaussNewton(maxIter=35, LSshorten=0.05)\n",
    "    \n",
    "    # Statement of the inverse problem \n",
    "    invProb = InvProblem.BaseInvProblem(dmisfit, reg, opt)\n",
    "    \n",
    "    # Inversion Directives\n",
    "    beta = Directives.BetaSchedule(coolingFactor=coolingFactor, coolingRate=coolingRate)\n",
    "    invProb.beta = beta0\n",
    "    save = Directives.SaveOutputEveryIteration(save_txt=False)\n",
    "    target = Directives.TargetMisfit()\n",
    "    directives = [beta, save]\n",
    "\n",
    "    if use_target:\n",
    "        directives.append(target)\n",
    "    if use_betaest:\n",
    "        if beta0_ratio is None:\n",
    "            beta0_ratio = 1.\n",
    "        betaest = Directives.BetaEstimate_ByEig(beta0_ratio=beta0_ratio)\n",
    "        directives.append(betaest)      \n",
    "        \n",
    "    # assemble in an inversion\n",
    "    inv = Inversion.BaseInversion(invProb, directiveList=directives)\n",
    "    prob.counter = opt.counter = Utils.Counter()\n",
    "    opt.remember('xc')\n",
    "    \n",
    "    # run the inversion\n",
    "    mopt = inv.run(m0)\n",
    "    xc = opt.recall(\"xc\")\n",
    "    return xc, save, reg"
   ]
  },
  {
   "cell_type": "markdown",
   "metadata": {},
   "source": [
    "## Inverse Problem: Choices\n",
    "\n",
    "### Target Misfit and the ideal $\\beta$\n",
    "\n",
    "If the noise is Gaussian, then the sum of squares (our data misfit) is a Chi-squared distribution, which has an expected value of $N_\\text{data}$ (in our case, we divide this by two to match our definition of $\\phi_d$). Thus, the ideal choice of $\\beta$ is one that gives us \n",
    "$$\\phi_d^* \\approx \\frac{1}{2} N_\\text{data}$$\n",
    "\n",
    "You can choose to stop the inversion once it achieves the target misfit (`use_target=True`). For this example, we want to also demonstrate what happens when you over-fit the data, so we will not stop it at the target misfit, but run the inversion until it hits the maximum number of iterations. \n",
    "\n",
    "#### A (longish) note: $\\beta$ cooling\n",
    "In this example, we will run an inversion where we cool (reduce the value of) `beta` every iteration. In practice, `beta` cooling strategy is often applied in non-linear inversions. The data misfit contribution objective function is non-convex, meaning that it has more than one local minimum. The Tikhonov regularization is convex. Having a large `beta` ensures that at least locally, the function is convex, so we can make progress using a gradient-based optimization step. However, keeping `beta` very high means that we do a good job fitting the regularization, and not necessarily fitting the data. Adopting a cooling schedule is one strategy for trying to address these competing challenges: by starting with a large beta and gradually reducing it, we make progress on a locally convex problem and then gradually allow more structure to the model by gradually reducing the value of `beta`. Typically multiple model updates are made for each beta-value (eg. you can increase the `coolingRate` to 3 to have 3 model update steps taken for each value of beta). The `coolingFactor` is the factor by which we reduce beta at the next beta-iteration (eg. `beta[i+1] = beta[i]/coolingFactor`).\n",
    "\n",
    "The `use_betaest` selects if we estimate a first beta or prescribe it. The directive which estimates the first `beta` value approximates the relative magnitudes of both $\\phi_d$ and $\\phi_m$ (eg. if $\\phi_d \\sim 10$ and $\\phi_m \\sim 1$, then to balance their influence in the objective function, we would choose $\\beta = 10$). The `beta_factor` is a scaling factor so that we can specify if we would like the influence of $\\phi_m$ to be `beta_factor` times larger than $\\phi_d$ (eg. if $\\phi_d \\sim 10$ and $\\phi_m \\sim 1$ and we use `beta_factor = 2`, then the initial beta would be 20). \n",
    "\n",
    "For the following example, we will gradually reduce $\\beta$ at every iteration - this allows us to plot out a \"typical\" Tikhonov or trade-off curve of $\\phi_d$ vs. $\\phi_m$. We encourage you to explore different beta-cooling strategies. \n",
    "\n",
    "\n",
    "## Regularization and tuning smallness vs. smoothness\n",
    "\n",
    "Here, we perform a \"smooth\" inversion, that is, we define $\\alpha_s \\ll \\alpha_z$, and penalize large gradients in the model. What happens if you reverse the values of `alpha_s` and `\\alpha_z` and instead perform a \"small\" inversion?\n",
    "\n",
    "\n",
    "## Starting and Reference Models\n",
    "\n",
    "For both a starting and reference model, we use the background conductivity of $10^{-2}$ S/m. Since in the inversion,the model is $\\log(\\sigma)$, we take the logarithm. What happens when you change these?"
   ]
  },
  {
   "cell_type": "code",
   "execution_count": 34,
   "metadata": {
    "scrolled": false
   },
   "outputs": [
    {
     "name": "stdout",
     "output_type": "stream",
     "text": [
      "SimPEG.DataMisfit.l2_DataMisfit assigning default eps of 1e-5 * ||dobs||\n",
      "SimPEG.InvProblem will set Regularization.mref to m0.\n",
      "\n",
      "    SimPEG.InvProblem is setting bfgsH0 to the inverse of the eval2Deriv.\n",
      "    ***Done using same Solver and solverOpts as the problem***\n",
      "model has any nan: 0\n",
      "============================ Inexact Gauss Newton ============================\n",
      "  #     beta     phi_d     phi_m       f      |proj(x-g)-x|  LS    Comment   \n",
      "-----------------------------------------------------------------------------\n",
      "x0 has any nan: 0\n",
      "   0  2.48e+02  5.03e+02  0.00e+00  5.03e+02    1.24e+02      0              \n",
      "   1  1.65e+02  8.22e+01  2.94e-01  1.31e+02    1.65e+01      0              \n",
      "   2  1.10e+02  4.62e+01  4.02e-01  9.05e+01    6.38e+00      0   Skip BFGS  \n",
      "   3  7.36e+01  3.35e+01  4.77e-01  6.86e+01    4.33e+00      0   Skip BFGS  \n",
      "   4  4.90e+01  2.68e+01  5.42e-01  5.33e+01    3.09e+00      0   Skip BFGS  \n",
      "   5  3.27e+01  2.30e+01  5.98e-01  4.25e+01    2.19e+00      0   Skip BFGS  \n",
      "   6  2.18e+01  2.08e+01  6.46e-01  3.49e+01    1.56e+00      0   Skip BFGS  \n",
      "   7  1.45e+01  1.95e+01  6.92e-01  2.95e+01    1.14e+00      0   Skip BFGS  \n",
      "   8  9.69e+00  1.86e+01  7.38e-01  2.57e+01    8.59e-01      0   Skip BFGS  \n",
      "   9  6.46e+00  1.79e+01  7.90e-01  2.30e+01    6.54e-01      0   Skip BFGS  \n",
      "  10  4.30e+00  1.74e+01  8.57e-01  2.11e+01    4.89e-01      0   Skip BFGS  \n",
      "  11  2.87e+00  1.69e+01  9.44e-01  1.96e+01    3.96e-01      0   Skip BFGS  \n",
      "  12  1.91e+00  1.65e+01  1.06e+00  1.85e+01    3.50e-01      0   Skip BFGS  \n",
      "  13  1.28e+00  1.62e+01  1.20e+00  1.77e+01    3.91e-01      0   Skip BFGS  \n",
      "  14  8.50e-01  1.61e+01  1.27e+00  1.71e+01    4.78e-01      0              \n",
      "  15  5.67e-01  1.59e+01  1.39e+00  1.67e+01    5.36e-01      0   Skip BFGS  \n",
      "  16  3.78e-01  1.58e+01  1.50e+00  1.64e+01    7.43e-01      0   Skip BFGS  \n",
      "  17  2.52e-01  1.58e+01  1.60e+00  1.62e+01    8.98e-01      0   Skip BFGS  \n",
      "  18  1.68e-01  1.57e+01  1.79e+00  1.60e+01    1.03e+00      0   Skip BFGS  \n",
      "  19  1.12e-01  1.57e+01  1.69e+00  1.59e+01    7.88e-01      0              \n",
      "  20  7.47e-02  1.57e+01  1.86e+00  1.58e+01    9.91e-01      0              \n",
      "  21  4.98e-02  1.56e+01  2.80e+00  1.57e+01    2.72e+00      0              \n",
      "  22  3.32e-02  1.54e+01  2.58e+00  1.54e+01    8.08e-01      0              \n",
      "  23  2.21e-02  1.53e+01  3.28e+00  1.54e+01    8.56e-01      0              \n",
      "  24  1.47e-02  1.53e+01  3.07e+00  1.53e+01    8.58e-01      0              \n",
      "  25  9.83e-03  1.52e+01  3.69e+00  1.53e+01    1.46e+00      0              \n",
      "  26  6.55e-03  1.52e+01  3.78e+00  1.52e+01    1.36e+00      0              \n",
      "  27  4.37e-03  1.52e+01  3.63e+00  1.52e+01    7.21e-01      0              \n",
      "  28  2.91e-03  1.52e+01  3.90e+00  1.52e+01    1.03e+00      0              \n",
      "  29  1.94e-03  1.52e+01  3.95e+00  1.52e+01    1.55e+00      0              \n",
      "  30  1.29e-03  1.51e+01  4.00e+00  1.51e+01    1.42e+00      0              \n",
      "  31  8.63e-04  1.51e+01  3.88e+00  1.51e+01    1.30e+00      0              \n",
      "  32  5.75e-04  1.51e+01  3.87e+00  1.51e+01    9.64e-01      0   Skip BFGS  \n",
      "  33  3.84e-04  1.51e+01  4.02e+00  1.51e+01    1.21e+00      0              \n",
      "  34  2.56e-04  1.51e+01  4.08e+00  1.51e+01    1.31e+00      0   Skip BFGS  \n",
      "  35  1.70e-04  1.51e+01  4.10e+00  1.51e+01    1.15e+00      0              \n",
      "------------------------- STOP! -------------------------\n",
      "1 : |fc-fOld| = 3.5567e-03 <= tolF*(1+|f0|) = 5.0368e+01\n",
      "1 : |xc-x_last| = 1.0782e-01 <= tolX*(1+|x0|) = 5.3102e+00\n",
      "0 : |proj(x-g)-x|    = 1.1534e+00 <= tolG          = 1.0000e-01\n",
      "0 : |proj(x-g)-x|    = 1.1534e+00 <= 1e3*eps       = 1.0000e-02\n",
      "1 : maxIter   =      35    <= iter          =     35\n",
      "------------------------- DONE! -------------------------\n"
     ]
    }
   ],
   "source": [
    "sigma_ref = 1e-2  # reference conductivity\n",
    "sigma_0 = 1e-2  # starting conductivity \n",
    "\n",
    "# translate the starting and reference model to log-conductivity\n",
    "mref = np.log(sigma_ref)*np.ones(mesh.nC)\n",
    "m0 = np.log(sigma_0)*np.ones(mesh.nC)\n",
    "\n",
    "xc, save, reg = run_MT1Dinv(\n",
    "    prob,  \n",
    "    survey,  \n",
    "    mref=mref,  # reference model\n",
    "    m0=m0, # starting model\n",
    "    alpha_s=1e-2,  # smallness contribution \n",
    "    alpha_z=1.,  # smoothness contribution to the regularization\n",
    "    use_betaest=True, # estimate the initial beta\n",
    "    beta0_ratio=10,  # starting contribution of regularization 10x larger than the data misfit  \n",
    "    coolingFactor=1.5,  # how much should we reduce beta at every beta-iteration\n",
    "    coolingRate=1,  # reduce beta after each `coolingRate` iterations\n",
    "    use_target=False  # stop the inversion at the target misfit\n",
    ")"
   ]
  },
  {
   "cell_type": "code",
   "execution_count": 20,
   "metadata": {
    "collapsed": true
   },
   "outputs": [],
   "source": [
    "# grab beta, phi_d, phi_m from the inversion. They are lists, so we convert them to arrays\n",
    "beta = np.array(save.beta)\n",
    "phi_d = np.array(save.phi_d)\n",
    "phi_m = np.array(save.phi_m)\n",
    "\n",
    "# find the iteration where we achieved target misfit\n",
    "target_misfit = 2 * survey.nFreq / 2.\n",
    "i_target = 0\n",
    "while phi_d[i_target] > target_misfit:\n",
    "    i_target += 1    "
   ]
  },
  {
   "cell_type": "markdown",
   "metadata": {},
   "source": [
    "### Inversion Progress: What does the $\\beta$-knob do?\n",
    "In the following plots, we show\n",
    "- $\\phi_d$ vs. $\\beta$\n",
    "- $\\phi_m$ vs. $\\beta$\n",
    "- $\\phi_d$ vs. $\\phi_m$\n",
    "\n",
    "Notice that as $\\beta$ decreases, $\\phi_d$ decreases and $\\phi_m$ increases (as we decrease the importance of the model regularization, we introduce more structure in the model and do a better job fitting the data) \n",
    "\n",
    "In all plots, the star indicates the iteration where we achieved target misfit. "
   ]
  },
  {
   "cell_type": "code",
   "execution_count": 21,
   "metadata": {},
   "outputs": [
    {
     "data": {
      "image/png": "[encoded data removed]",
      "text/plain": [
       "<matplotlib.figure.Figure at 0x11fde08d0>"
      ]
     },
     "metadata": {},
     "output_type": "display_data"
    }
   ],
   "source": [
    "fig, ax = plt.subplots(3, 1, figsize=(5, 8))\n",
    "\n",
    "# plot phi_d\n",
    "ax[0].loglog(beta, phi_d, 'k-', lw=2, ms=4)\n",
    "ax[0].loglog(beta[i_target], phi_d[i_target], 'k*', ms=10)\n",
    "ax[0].set_ylabel(\"$\\phi_d$\", fontsize = 14)\n",
    "\n",
    "# phi_m\n",
    "ax[1].loglog(beta, phi_m, 'k-', lw=2)\n",
    "ax[1].loglog(beta[i_target], phi_m[i_target], 'k*', ms=10)\n",
    "ax[1].set_ylabel(\"$\\phi_m$\", fontsize = 14)\n",
    "\n",
    "ax[2].loglog(phi_m, phi_d, 'k-', lw=2)\n",
    "ax[2].loglog(phi_m[i_target], phi_d[i_target], 'k*', ms=10)\n",
    "ax[2].set_xlim(phi_m.min(), phi_m.max())\n",
    "ax[2].set_xlabel(\"$\\phi_m$\", fontsize = 14)\n",
    "ax[2].set_ylabel(\"$\\phi_d$\", fontsize = 14)\n",
    "\n",
    "for a in ax[0:1]:\n",
    "    a.set_xlim(beta.min(), beta.max())\n",
    "    a.set_xlabel(\"$\\\\beta$\", fontsize = 14)\n",
    "\n",
    "plt.tight_layout()"
   ]
  },
  {
   "cell_type": "markdown",
   "metadata": {},
   "source": [
    "## The results! \n",
    "\n",
    "In what follows, we will generate an interactive plots that show \n",
    "\n",
    "(a) the true and recovered model\n",
    "(b) the Tikhonov curve with the target misfit plotted as a star, and the current iteration as a dot\n",
    "(c) predicted and observed apparent resistivity curve\n",
    "(d) predicted and observed phase curve\n",
    "\n",
    "What does our data fit look like at each iteration? Are there biases? When have we underfit the data? overfit the data? Let's scroll through the inversion results and see. "
   ]
  },
  {
   "cell_type": "code",
   "execution_count": 22,
   "metadata": {
    "collapsed": true
   },
   "outputs": [],
   "source": [
    "from ipywidgets import interact, IntSlider, ToggleButtons"
   ]
  },
  {
   "cell_type": "code",
   "execution_count": 23,
   "metadata": {
    "collapsed": true
   },
   "outputs": [],
   "source": [
    "def view_1Dinversion_results(iteration, scale=\"linear\"):\n",
    "    fig, ax = plt.subplots(2, 2, figsize = (10, 5))\n",
    "    ax = ax.flatten()\n",
    "    \n",
    "    # get the apparent resistivity and phase data for this iteration\n",
    "    dpred = survey.dpred(xc[iteration])\n",
    "    Zxy_real_pred = dpred.reshape((survey.nFreq, 2))[:,0]\n",
    "    Zxy_imag_pred = dpred.reshape((survey.nFreq, 2))[:,1]\n",
    "    app_res_pred, phase_pred = app_res_phase(Zxy_real_pred, Zxy_imag_pred, frequency)\n",
    "    \n",
    "    # plot the true and recovered models\n",
    "    m_iter = xc[iteration]\n",
    "    sigtrue = np.repeat(sigma, 2, axis=0)\n",
    "    z = np.repeat(mesh.vectorCCx[1:], 2, axis=0)\n",
    "    z = np.r_[mesh.vectorCCx[0], z, mesh.vectorCCx[-1]]\n",
    "\n",
    "    ax[0].semilogy(-z, sigtrue, 'k', lw=2, label='true')\n",
    "    ax[0].semilogy(-mesh.vectorCCx, np.exp(m_iter), 'k--', lw=2, label='recovered')\n",
    "    ax[0].set_ylabel(\"Conductivity (S/m)\")\n",
    "    ax[0].set_xlabel(\"Depth (m)\")\n",
    "    ax[0].grid(True, which='both')\n",
    "    ax[0].set_ylim(2e-3, 2e-1)\n",
    "    ax[0].set_xlim((-z).min(), max_depth_core)\n",
    "    ax[0].legend()\n",
    "    \n",
    "    # plot the Tikhonov curve\n",
    "    ax[2].loglog(phi_m, phi_d, 'k-', lw=2)\n",
    "    ax[2].loglog(phi_m[i_target], phi_d[i_target], 'k*', ms=10)\n",
    "    ax[2].loglog(phi_m[iteration], phi_d[iteration], 'ro', ms=10)\n",
    "    ax[2].set_xlim(phi_m.min(), phi_m.max())\n",
    "    ax[2].set_xlabel(\"$\\phi_m$\", fontsize = 14)\n",
    "    ax[2].set_ylabel(\"$\\phi_d$\", fontsize = 14)\n",
    "    ax[2].set_xscale(scale)\n",
    "\n",
    "    # plot the apparend resistivity data\n",
    "    ax[1].loglog(frequency, app_res_obs, 'k-', lw=2, label='obs')\n",
    "    ax[1].loglog(frequency, app_res_pred, 'kx', markeredgewidth=1, label='pred')\n",
    "    ax[1].grid(True, which='both')\n",
    "    ax[1].set_xlim(frequency.max(), frequency.min())\n",
    "    ax[1].set_ylim(10, 3e2)\n",
    "    ax[1].set_xlabel(\"Frequency (Hz)\")\n",
    "    ax[1].set_ylabel(\"$\\\\rho_a \\ (\\Omega m)$\", fontsize = 14)\n",
    "    ax[1].legend()\n",
    "\n",
    "    # plot the phase\n",
    "    ax[3].semilogx(frequency, phase_obs, 'k-', lw=2)\n",
    "    ax[3].semilogx(frequency, phase_pred, 'kx', markeredgewidth=1)\n",
    "    ax[3].grid(True, which='both')\n",
    "    ax[3].set_xlim(frequency.max(), frequency.min())\n",
    "    ax[3].set_xlabel(\"Frequency (Hz)\")\n",
    "    ax[3].set_ylabel(\"Phase (degree)\")\n",
    "\n",
    "    for a, title in zip(ax, ['(a)', '(b)', '(c)', '(d)']):\n",
    "        a.set_title(title, fontsize=14)\n",
    "    \n",
    "    plt.tight_layout()\n",
    "    plt.show()\n"
   ]
  },
  {
   "cell_type": "code",
   "execution_count": 24,
   "metadata": {},
   "outputs": [
    {
     "data": {
      "application/vnd.jupyter.widget-view+json": {
       "model_id": "e99214c22e2d4e9292d37af62eb5aa60"
      }
     },
     "metadata": {},
     "output_type": "display_data"
    },
    {
     "data": {
      "text/plain": [
       "<function __main__.view_1Dinversion_results>"
      ]
     },
     "execution_count": 24,
     "metadata": {},
     "output_type": "execute_result"
    }
   ],
   "source": [
    "interact(\n",
    "    view_1Dinversion_results, \n",
    "    iteration=IntSlider(min=0, max=beta.shape[0]-1, step=1, value=0),\n",
    "    scale=ToggleButtons(options=[\"linear\", \"log\"], value=\"log\")\n",
    ")"
   ]
  },
  {
   "cell_type": "markdown",
   "metadata": {},
   "source": [
    "In the [next notebook](./4_MT1D_5layer_inversion.ipynb), we will increase the complexity of the model to a 5 layer model, again have a look at selecting $\\beta$ and dive further into tuning the regularization. "
   ]
  }
 ],
 "metadata": {
  "anaconda-cloud": {},
  "kernelspec": {
   "display_name": "Python [default]",
   "language": "python",
   "name": "python2"
  },
  "language_info": {
   "codemirror_mode": {
    "name": "ipython",
    "version": 2
   },
   "file_extension": ".py",
   "mimetype": "text/x-python",
   "name": "python",
   "nbconvert_exporter": "python",
   "pygments_lexer": "ipython2",
   "version": "2.7.13"
  }
 },
 "nbformat": 4,
 "nbformat_minor": 2
}
