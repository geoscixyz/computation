{
 "cells": [
  {
   "cell_type": "markdown",
   "metadata": {},
   "source": [
    "# DC resistivity over TKC\n",
    "\n",
    "\n",
    "## Purpose\n",
    "\n",
    "Understand basic setup and physics of a direct current (DC) resistivity\n",
    "survey within the context of a kimberlite exploration. Run DC forward\n",
    "modelling and inversion using SimPEG-Static package.\n",
    "\n",
    "<img src=\"../../../images/tkc/dc.png\" alt=\"Scipy_2016_PF_Thumbnail\" width=\"400px\">\n"
   ]
  },
  {
   "cell_type": "markdown",
   "metadata": {},
   "source": [
    "## Set-up\n",
    "\n",
    "The physical behavior of DC resistivity survey is governed by the steady-state\n",
    "Maxwell's equations:\n",
    "\n",
    "$$\n",
    "\\vec{j} = \\sigma \\vec{e}\n",
    "$$\n",
    "\n",
    "$$\n",
    "\\vec{e} = -\\nabla \\phi\n",
    "$$\n",
    "\n",
    "$$\n",
    "\\nabla \\cdot \\vec{j} = -\\nabla \\cdot \\vec{j}_s = I_0 (\\delta(\\vec{r}-\\vec{r}_+)-\\delta(\\vec{r}-\\vec{r}_-))\n",
    "$$\n",
    "\n",
    "$$\n",
    "\\vec{j} \\cdot \\hat{n} \\ \\Big|_{\\partial \\Omega} = 0\n",
    "$$\n",
    "\n",
    "where:\n",
    "- $\\vec{j}$: Current density (A/m $^2$)\n",
    "\n",
    "- $\\vec{e}$: Electric field (V/m)\n",
    "\n",
    "- $I_0$: Current (A)\n",
    "\n",
    "- $\\delta$: Volumetric delta function ($m^{-3}$)\n",
    "\n",
    "Consider a simple gradient array having a pair of A (+) and B (+) current\n",
    "electrodes (Tx) with multiple M (+) and N (-) potential electrodes (Rx). Using\n",
    "giant battery (?), we setup a significant potential difference allowing\n",
    "electrical currents to flow between the A to B electrodes. If the earth\n",
    "includes conductors or resistors, these will distorts current flow, and\n",
    "measured potential differences on the surface electrodes (MN) will be\n",
    "reflective of those distortions. Typically kimberlitic pipes (including those\n",
    "containing diamonds!) will be more conductive than the background rock\n",
    "(granitic), hence, the measured potential difference will be low. That is,\n",
    "contrasts in electrical conductivity between different rocks induce anomalous\n",
    "voltages. From the observed voltages, we want to estimate conductivity\n",
    "distribution of the earth. We use a geophysical inversion technique to do this\n",
    "procedure.\n",
    "\n",
    "We work through each step of geophysical inversion using [SimPEG-Static\n",
    "package](http://docs.simpeg.xyz/content/dc/index.html) under SimPEG's\n",
    "framework having two main items: a) Forward simulation and b) Inversion.\n",
    "\n",
    "<img src=\"../../../images/SimPEGFramework.png\" alt=\"SimPEGframework\" width=\"400px\">"
   ]
  },
  {
   "cell_type": "markdown",
   "metadata": {},
   "source": [
    "## Forward simulation\n",
    "\n",
    "\n",
    "A forward simulation of a DC experiment requires [Survey](\n",
    "http://docs.simpeg.xyz/content/api_core/api_ForwardProblem.html?#survey)\n",
    "and [Problem](http://docs.simpeg.xyz/content/api_core/api_ForwardProblem.html\n",
    "?#problem-class) classes. We need to the pass current and potential\n",
    "electrode locations to a DC survey class. The physical behavior of DC fields\n",
    "and fluxes are governed by the static Maxwell's equations. To numerically\n",
    "work with these equations, we use the DC problem class, which handles this by solving a\n",
    "corresponding partial different equation in a discrete space. For this, the\n",
    "earth needs to be discretized to solve corresponding partial\n",
    "differential equation. The Problem class computes fields in full discretized\n",
    "domain, and the Survey class evaluates data at potential electrodes using the\n",
    "fields. The Survey and Problem classes need to share information hence, we\n",
    "pair them.\n",
    "\n",
    "\n",
    "### Mesh\n",
    "\n",
    "We use a 3D tensor mesh to discretize the earth having 25x25x25 m core cell\n",
    "size. Smaller vertical size of the cell (dz) is used close to the topographic\n",
    "surface (12.5 m), and padding cells are used to satisfies the natural boundary\n",
    "condition imposed."
   ]
  },
  {
   "cell_type": "code",
   "execution_count": 20,
   "metadata": {
    "collapsed": true
   },
   "outputs": [],
   "source": [
    "import numpy as np\n",
    "import matplotlib.pyplot as plt\n",
    "\n",
    "from SimPEG import (\n",
    "    Mesh, Maps, Utils, DataMisfit, Regularization, Optimization,\n",
    "    InvProblem, Inversion, Directives\n",
    ")\n",
    "from SimPEG.EM.Static import DC\n",
    "\n",
    "try:\n",
    "    from pymatsolver import Pardiso as Solver\n",
    "except:\n",
    "    from SimPEG import SolverLU as Solver\n",
    "\n",
    "%matplotlib inline"
   ]
  },
  {
   "cell_type": "code",
   "execution_count": 5,
   "metadata": {
    "collapsed": false
   },
   "outputs": [
    {
     "data": {
      "image/png": "[encoded data removed]",
      "text/plain": [
       "<matplotlib.figure.Figure at 0x10d3c4710>"
      ]
     },
     "metadata": {},
     "output_type": "display_data"
    },
    {
     "data": {
      "image/png": "[encoded data removed]",
      "text/plain": [
       "<matplotlib.figure.Figure at 0x10d883390>"
      ]
     },
     "metadata": {},
     "output_type": "display_data"
    }
   ],
   "source": [
    "# Core cell sizes in x, y, and z\n",
    "csx, csy, csz = 25., 25., 25.\n",
    "\n",
    "# Number of core cells in each directiPon s\n",
    "ncx, ncy, ncz = 48, 48, 20\n",
    "\n",
    "# Number of padding cells to add in each direction\n",
    "npad = 7\n",
    "\n",
    "# Vectors of cell lengthts in each direction\n",
    "hx = [(csx,npad, -1.3),(csx,ncx),(csx,npad, 1.3)]\n",
    "hy = [(csy,npad, -1.3),(csy,ncy),(csy,npad, 1.3)]\n",
    "hz = [(csz,npad, -1.3),(csz,ncz), (csz/2.,6)]\n",
    "\n",
    "# Create mesh\n",
    "mesh = Mesh.TensorMesh([hx, hy, hz],x0=\"CCN\")\n",
    "\n",
    "# Map mesh coordinates from local to UTM coordiantes\n",
    "xc = 300+5.57e5\n",
    "yc = 600+7.133e6\n",
    "zc = 425.\n",
    "mesh._x0 = mesh.x0 + np.r_[xc, yc, zc]\n",
    "\n",
    "# plot the mesh\n",
    "mesh.plotSlice(np.ones(mesh.nC)*np.nan, grid=True)\n",
    "mesh.plotSlice(np.ones(mesh.nC)*np.nan, grid=True, normal=\"Y\")\n",
    "plt.gca().set_aspect('equal')\n",
    "plt.show()"
   ]
  },
  {
   "cell_type": "markdown",
   "metadata": {},
   "source": [
    "### Survey\n",
    "\n",
    "We use a simple gradient array having a pair of current electrodes (AB), and\n",
    "multiple potential electrodes (MN).  The lengths of AB and MN electrodes are\n",
    "1200 and 25 m, respectively.\n",
    "\n",
    "![Gradient array](../../../images/dc/GradientArray.png)\n",
    "\n",
    "\n",
    "Once we have obtained locations of AB (Src) and MN (Rx) electrodes, we can\n",
    "generate **Survey** class:"
   ]
  },
  {
   "cell_type": "code",
   "execution_count": 6,
   "metadata": {
    "collapsed": false
   },
   "outputs": [],
   "source": [
    "# Create Src and Rx classes for DC problem\n",
    "Aloc1_x = np.r_[-600., 0, 0.] + np.r_[xc, yc, zc]\n",
    "Bloc1_x = np.r_[600., 0, 0.] + np.r_[xc, yc, zc]\n",
    "\n",
    "# Rx locations (M-N electrodes, x-direction)\n",
    "x = mesh.vectorCCx[np.logical_and(mesh.vectorCCx>-300.+ xc, mesh.vectorCCx<300.+ xc)]\n",
    "y = mesh.vectorCCy[np.logical_and(mesh.vectorCCy>-300.+ yc, mesh.vectorCCy<300.+ yc)]\n",
    "# Grid selected cell centres to get M and N Rx electrode locations\n",
    "Mx = Utils.ndgrid(x[:-1], y, np.r_[-12.5/2.])\n",
    "Nx = Utils.ndgrid(x[1:], y, np.r_[-12.5/2.])\n",
    "\n",
    "rx = DC.Rx.Dipole(Mx, Nx)\n",
    "src = DC.Src.Dipole([rx], Aloc1_x, Bloc1_x)\n",
    "\n",
    "# Form survey object using Srcs and Rxs that we have generated\n",
    "survey = DC.Survey([src])"
   ]
  },
  {
   "cell_type": "markdown",
   "metadata": {},
   "source": [
    "### Fields and Data\n",
    "\n",
    "By solving the DC equations, we compute electrical potential ($\\phi$) at\n",
    "every cell. The **Problem** class does this, but it still requires survey\n",
    "information hence we pair it to the **Survey** class:"
   ]
  },
  {
   "cell_type": "code",
   "execution_count": 9,
   "metadata": {
    "collapsed": false
   },
   "outputs": [],
   "source": [
    "# Define problem and set solver\n",
    "problem = DC.Problem3D_CC(mesh)\n",
    "\n",
    "problem.Solver = Solver\n",
    "# Pair problem and survey\n",
    "problem.pair(survey)"
   ]
  },
  {
   "cell_type": "markdown",
   "metadata": {},
   "source": [
    "Here, we used ``DC.Problem3D_CC``, which means 3D space and $\\phi$ is\n",
    "defined at the cell center. Now, we are ready to run DC forward modelling! For\n",
    "this modelling, inside of the code, there are two steps:\n",
    "\n",
    "1. Compute fields ($\\phi$ at every cells)\n",
    "2. Evaluate at Rx location (potential difference at MN electrodes)\n",
    "\n",
    "Consider two conductivity models:\n",
    "\n",
    "- Homogeneous background below topographic surface: ``sigma0``\n",
    "  ($10^{-4}$ S/m)\n",
    "\n",
    "- Includes diamond pipes: ``sigma`` (S/m)"
   ]
  },
  {
   "cell_type": "code",
   "execution_count": 10,
   "metadata": {
    "collapsed": false
   },
   "outputs": [
    {
     "ename": "IOError",
     "evalue": "[Errno 2] No such file or directory: 'VTKout_DC.dat'",
     "output_type": "error",
     "traceback": [
      "\u001b[0;31m---------------------------------------------------------------------------\u001b[0m",
      "\u001b[0;31mIOError\u001b[0m                                   Traceback (most recent call last)",
      "\u001b[0;32m<ipython-input-10-e6ad92636190>\u001b[0m in \u001b[0;36m<module>\u001b[0;34m()\u001b[0m\n\u001b[1;32m      1\u001b[0m \u001b[0;31m# Read pre-generated conductivity model in UBC format\u001b[0m\u001b[0;34m\u001b[0m\u001b[0;34m\u001b[0m\u001b[0m\n\u001b[0;32m----> 2\u001b[0;31m \u001b[0msigma\u001b[0m \u001b[0;34m=\u001b[0m \u001b[0mmesh\u001b[0m\u001b[0;34m.\u001b[0m\u001b[0mreadModelUBC\u001b[0m\u001b[0;34m(\u001b[0m\u001b[0;34m\"VTKout_DC.dat\"\u001b[0m\u001b[0;34m)\u001b[0m\u001b[0;34m\u001b[0m\u001b[0m\n\u001b[0m\u001b[1;32m      3\u001b[0m \u001b[0;31m# Identify air cells in the model\u001b[0m\u001b[0;34m\u001b[0m\u001b[0;34m\u001b[0m\u001b[0m\n\u001b[1;32m      4\u001b[0m \u001b[0mairind\u001b[0m \u001b[0;34m=\u001b[0m \u001b[0msigma\u001b[0m \u001b[0;34m==\u001b[0m \u001b[0;36m1e-8\u001b[0m\u001b[0;34m\u001b[0m\u001b[0m\n\u001b[1;32m      5\u001b[0m \u001b[0;31m# Generate background model (constant conductiivty below topography)\u001b[0m\u001b[0;34m\u001b[0m\u001b[0;34m\u001b[0m\u001b[0m\n",
      "\u001b[0;32m/Users/lindseyjh/git/python_symlinks/discretize/MeshIO.pyc\u001b[0m in \u001b[0;36mreadModelUBC\u001b[0;34m(mesh, fileName)\u001b[0m\n\u001b[1;32m    205\u001b[0m         \u001b[0;34m:\u001b[0m\u001b[0;32mreturn\u001b[0m\u001b[0;34m:\u001b[0m \u001b[0mmodel\u001b[0m \u001b[0;32mwith\u001b[0m \u001b[0mTensorMesh\u001b[0m \u001b[0mordered\u001b[0m\u001b[0;34m\u001b[0m\u001b[0m\n\u001b[1;32m    206\u001b[0m         \"\"\"\n\u001b[0;32m--> 207\u001b[0;31m         \u001b[0mf\u001b[0m \u001b[0;34m=\u001b[0m \u001b[0mopen\u001b[0m\u001b[0;34m(\u001b[0m\u001b[0mfileName\u001b[0m\u001b[0;34m,\u001b[0m \u001b[0;34m'r'\u001b[0m\u001b[0;34m)\u001b[0m\u001b[0;34m\u001b[0m\u001b[0m\n\u001b[0m\u001b[1;32m    208\u001b[0m         \u001b[0mmodel\u001b[0m \u001b[0;34m=\u001b[0m \u001b[0mnp\u001b[0m\u001b[0;34m.\u001b[0m\u001b[0marray\u001b[0m\u001b[0;34m(\u001b[0m\u001b[0mlist\u001b[0m\u001b[0;34m(\u001b[0m\u001b[0mmap\u001b[0m\u001b[0;34m(\u001b[0m\u001b[0mfloat\u001b[0m\u001b[0;34m,\u001b[0m \u001b[0mf\u001b[0m\u001b[0;34m.\u001b[0m\u001b[0mreadlines\u001b[0m\u001b[0;34m(\u001b[0m\u001b[0;34m)\u001b[0m\u001b[0;34m)\u001b[0m\u001b[0;34m)\u001b[0m\u001b[0;34m)\u001b[0m\u001b[0;34m\u001b[0m\u001b[0m\n\u001b[1;32m    209\u001b[0m         \u001b[0mf\u001b[0m\u001b[0;34m.\u001b[0m\u001b[0mclose\u001b[0m\u001b[0;34m(\u001b[0m\u001b[0;34m)\u001b[0m\u001b[0;34m\u001b[0m\u001b[0m\n",
      "\u001b[0;31mIOError\u001b[0m: [Errno 2] No such file or directory: 'VTKout_DC.dat'"
     ]
    }
   ],
   "source": [
    "# Read pre-generated conductivity model in UBC format\n",
    "sigma = mesh.readModelUBC(\"VTKout_DC.dat\")\n",
    "# Identify air cells in the model\n",
    "airind = sigma == 1e-8\n",
    "# Generate background model (constant conductiivty below topography)\n",
    "sigma0 = np.ones_like(sigma)*1e-4\n",
    "sigma0[airind] = 1e-8"
   ]
  },
  {
   "cell_type": "code",
   "execution_count": null,
   "metadata": {
    "collapsed": true
   },
   "outputs": [],
   "source": [
    "# Forward model fields due to the reference model and true model\n",
    "f0 = problem.fields(sigma0)\n",
    "f = problem.fields(sigma)"
   ]
  },
  {
   "cell_type": "markdown",
   "metadata": {},
   "source": [
    "Now ``f`` and ``f0`` are **Field** objects including computed $\\phi$\n",
    "everywhere. However, this **Field** object know how to compute both\n",
    "$\\vec{e}$, $\\vec{j}$, and electrical charge, $\\int_V \\rho_v\n",
    "dV$ ($\\rho_v$ is volumetric charge density). Note that if we know\n",
    "$\\phi$, all of them can be computed for a corresponding source:"
   ]
  },
  {
   "cell_type": "code",
   "execution_count": 12,
   "metadata": {
    "collapsed": false
   },
   "outputs": [
    {
     "ename": "NameError",
     "evalue": "name 'f' is not defined",
     "output_type": "error",
     "traceback": [
      "\u001b[0;31m---------------------------------------------------------------------------\u001b[0m",
      "\u001b[0;31mNameError\u001b[0m                                 Traceback (most recent call last)",
      "\u001b[0;32m<ipython-input-12-434e54a3c544>\u001b[0m in \u001b[0;36m<module>\u001b[0;34m()\u001b[0m\n\u001b[0;32m----> 1\u001b[0;31m \u001b[0mphi\u001b[0m \u001b[0;34m=\u001b[0m \u001b[0mf\u001b[0m\u001b[0;34m[\u001b[0m\u001b[0msrc\u001b[0m\u001b[0;34m,\u001b[0m \u001b[0;34m'phi'\u001b[0m\u001b[0;34m]\u001b[0m\u001b[0;34m\u001b[0m\u001b[0m\n\u001b[0m\u001b[1;32m      2\u001b[0m \u001b[0me\u001b[0m \u001b[0;34m=\u001b[0m \u001b[0mf\u001b[0m\u001b[0;34m[\u001b[0m\u001b[0msrc\u001b[0m\u001b[0;34m,\u001b[0m \u001b[0;34m'e'\u001b[0m\u001b[0;34m]\u001b[0m\u001b[0;34m\u001b[0m\u001b[0m\n\u001b[1;32m      3\u001b[0m \u001b[0mj\u001b[0m \u001b[0;34m=\u001b[0m \u001b[0mf\u001b[0m\u001b[0;34m[\u001b[0m\u001b[0msrc\u001b[0m\u001b[0;34m,\u001b[0m \u001b[0;34m'j'\u001b[0m\u001b[0;34m]\u001b[0m\u001b[0;34m\u001b[0m\u001b[0m\n\u001b[1;32m      4\u001b[0m \u001b[0mcharge\u001b[0m \u001b[0;34m=\u001b[0m \u001b[0mf\u001b[0m\u001b[0;34m[\u001b[0m\u001b[0msrc\u001b[0m\u001b[0;34m,\u001b[0m \u001b[0;34m'charge'\u001b[0m\u001b[0;34m]\u001b[0m\u001b[0;34m\u001b[0m\u001b[0m\n",
      "\u001b[0;31mNameError\u001b[0m: name 'f' is not defined"
     ]
    }
   ],
   "source": [
    "phi = f[src, 'phi']\n",
    "e = f[src, 'e']\n",
    "j = f[src, 'j']\n",
    "charge = f[src, 'charge']"
   ]
  },
  {
   "cell_type": "markdown",
   "metadata": {},
   "source": [
    "Since the field object for the background model is generic, we can obtain\n",
    "secondary potential:"
   ]
  },
  {
   "cell_type": "code",
   "execution_count": null,
   "metadata": {
    "collapsed": true
   },
   "outputs": [],
   "source": [
    "# Secondary potential\n",
    "phi0 = f0[src, 'phi']\n",
    "phi_sec = phi - phi0"
   ]
  },
  {
   "cell_type": "markdown",
   "metadata": {},
   "source": [
    "We present plan and section views of currents, charges, and secondary\n",
    "potentials in the figure below (Left, middle, and right panels show currents, charges, and secondary potentials)\n",
    "\n",
    "![DCfields](../../../images/dc/DCfields.png)\n",
    "\n",
    "Current flows from A (+) to B (-) electrode (left to right). Kimberlite pipe\n",
    "should be more conductive than the background considering more currents are\n",
    "flowing through the pipe (See distortions of the current path in the left\n",
    "panel).\n",
    "\n",
    "The distribution of electrical charges (the middle panel) supports that the\n",
    "pipe is conductive since left and right side of the pipe has negative and\n",
    "positive charges, respectively. In addition, charges only built on the\n",
    "boundary of the conductive pipe.\n",
    "\n",
    "The secondary potential (the right panel) is important since it shows response\n",
    "from the kimberlite pipe, which often called \"Anomalous potential\". Usually,\n",
    "removing background response is a good way to see how much anomalous response\n",
    "could be obtained for the target.\n",
    "\n",
    "On the other hand, we cannot measure those fields everywhere but measure\n",
    "potential differences at MN electrodes (Rx) hence we need to evaluate them\n",
    "from the fields:"
   ]
  },
  {
   "cell_type": "code",
   "execution_count": 13,
   "metadata": {
    "collapsed": false
   },
   "outputs": [
    {
     "ename": "NameError",
     "evalue": "name 'sigma' is not defined",
     "output_type": "error",
     "traceback": [
      "\u001b[0;31m---------------------------------------------------------------------------\u001b[0m",
      "\u001b[0;31mNameError\u001b[0m                                 Traceback (most recent call last)",
      "\u001b[0;32m<ipython-input-13-374816ad2ac7>\u001b[0m in \u001b[0;36m<module>\u001b[0;34m()\u001b[0m\n\u001b[1;32m      1\u001b[0m \u001b[0;31m# Get observed data\u001b[0m\u001b[0;34m\u001b[0m\u001b[0;34m\u001b[0m\u001b[0m\n\u001b[0;32m----> 2\u001b[0;31m \u001b[0mdobs\u001b[0m \u001b[0;34m=\u001b[0m \u001b[0msurvey\u001b[0m\u001b[0;34m.\u001b[0m\u001b[0mdpred\u001b[0m\u001b[0;34m(\u001b[0m\u001b[0msigma\u001b[0m\u001b[0;34m,\u001b[0m \u001b[0mf\u001b[0m\u001b[0;34m=\u001b[0m\u001b[0mf\u001b[0m\u001b[0;34m)\u001b[0m\u001b[0;34m\u001b[0m\u001b[0m\n\u001b[0m",
      "\u001b[0;31mNameError\u001b[0m: name 'sigma' is not defined"
     ]
    }
   ],
   "source": [
    "# Get observed data\n",
    "dobs = survey.dpred(sigma, f=f)"
   ]
  },
  {
   "cell_type": "markdown",
   "metadata": {},
   "source": [
    "If the field has not been computed then we do:"
   ]
  },
  {
   "cell_type": "code",
   "execution_count": 14,
   "metadata": {
    "collapsed": false
   },
   "outputs": [
    {
     "ename": "NameError",
     "evalue": "name 'sigma' is not defined",
     "output_type": "error",
     "traceback": [
      "\u001b[0;31m---------------------------------------------------------------------------\u001b[0m",
      "\u001b[0;31mNameError\u001b[0m                                 Traceback (most recent call last)",
      "\u001b[0;32m<ipython-input-14-c9d725a72e5d>\u001b[0m in \u001b[0;36m<module>\u001b[0;34m()\u001b[0m\n\u001b[1;32m      1\u001b[0m \u001b[0;31m# Get observed data\u001b[0m\u001b[0;34m\u001b[0m\u001b[0;34m\u001b[0m\u001b[0m\n\u001b[0;32m----> 2\u001b[0;31m \u001b[0mdobs\u001b[0m \u001b[0;34m=\u001b[0m \u001b[0msurvey\u001b[0m\u001b[0;34m.\u001b[0m\u001b[0mdpred\u001b[0m\u001b[0;34m(\u001b[0m\u001b[0msigma\u001b[0m\u001b[0;34m)\u001b[0m\u001b[0;34m\u001b[0m\u001b[0m\n\u001b[0m",
      "\u001b[0;31mNameError\u001b[0m: name 'sigma' is not defined"
     ]
    }
   ],
   "source": [
    "# Get observed data\n",
    "dobs = survey.dpred(sigma)"
   ]
  },
  {
   "cell_type": "markdown",
   "metadata": {},
   "source": [
    "This will compute the field inside of the code then evaluate for data at Rx\n",
    "locations. Below image shows the computed DC data. Smaller potentials are\n",
    "obtained at the center locations, which implies the existence of conductive\n",
    "materials. Current easily flows with conductive materials, which means less\n",
    "potential is required to path through them, hence for resistive materials we\n",
    "get greater potential difference measured on the surface. The measured\n",
    "potential provides some idea of the earth; however, this is not enough, we\n",
    "want a 3D distribution of the conductivity!\n",
    "\n",
    "![DCdata](../../../images/dc/DCdata.png)"
   ]
  },
  {
   "cell_type": "markdown",
   "metadata": {},
   "source": [
    "## Inversion Elements\n",
    "\n",
    "Our goal here is finding a 3D conductivity model which explains the observed\n",
    "data shown above. Inversion elements (red box in the\n",
    "[SimPEG Framework](#Set-up)) will handle this task with an ability to simulate\n",
    "forward problem. We go through each element and briefly explain.\n",
    "\n",
    "### Mapping\n",
    "\n",
    "For the simulation, we used a 3D conductivity model, with a value defined in\n",
    "every cell center location. However, for the inversion, we may not want to\n",
    "estimate conductivity at every cell. For instance, our domain include some air\n",
    "cells, and we already know well about the conductivity of the air\n",
    "($10^{-8} \\approx 0$) hence, those air cell should be excluded from the\n",
    "inversion model, $m$. Accordingly, a mapping is required moving from the\n",
    "inversion model to conductivity model defined at whole discrete domain:\n",
    "\n",
    "$$\n",
    "    \\sigma  = \\mathcal{M}(m)\n",
    "$$\n",
    "\n",
    "In addition, conductivity is strictly positive and varies logarithmically, so\n",
    "we often use log conductivity as our inversion model ($m = log\n",
    "(\\sigma)$). Our inversion model is log conductivity only defined below the\n",
    "subsurface cells, and this can be expressed as\n",
    "\n",
    "$$\n",
    "    \\sigma = \\mathcal{M}_{exp}\\Big(\\mathcal{M}_{act} (m)\\Big),\n",
    "$$\n",
    "\n",
    "where $\\mathcal{M}_{act}(\\cdot)$ is a `InjectActiveCells` map, which\n",
    "takes subsurface cell and surject to full domain including air cells, and\n",
    "$\\mathcal{M}_{exp}(\\cdot)$ is an `ExpMap` map takes log conductivity\n",
    "to conductivity. Combination of two maps are required to get $\\sigma$\n",
    "from $m$, which can be codified as"
   ]
  },
  {
   "cell_type": "code",
   "execution_count": 15,
   "metadata": {
    "collapsed": false
   },
   "outputs": [
    {
     "ename": "NameError",
     "evalue": "name 'Maps' is not defined",
     "output_type": "error",
     "traceback": [
      "\u001b[0;31m---------------------------------------------------------------------------\u001b[0m",
      "\u001b[0;31mNameError\u001b[0m                                 Traceback (most recent call last)",
      "\u001b[0;32m<ipython-input-15-7d7489ccdc1f>\u001b[0m in \u001b[0;36m<module>\u001b[0;34m()\u001b[0m\n\u001b[1;32m      1\u001b[0m \u001b[0;31m# from log conductivity to conductivity\u001b[0m\u001b[0;34m\u001b[0m\u001b[0;34m\u001b[0m\u001b[0m\n\u001b[0;32m----> 2\u001b[0;31m \u001b[0mexpmap\u001b[0m \u001b[0;34m=\u001b[0m \u001b[0mMaps\u001b[0m\u001b[0;34m.\u001b[0m\u001b[0mExpMap\u001b[0m\u001b[0;34m(\u001b[0m\u001b[0mmesh\u001b[0m\u001b[0;34m)\u001b[0m\u001b[0;34m\u001b[0m\u001b[0m\n\u001b[0m\u001b[1;32m      3\u001b[0m \u001b[0;31m# from subsurface cells to full 3D cells\u001b[0m\u001b[0;34m\u001b[0m\u001b[0;34m\u001b[0m\u001b[0m\n\u001b[1;32m      4\u001b[0m \u001b[0mactmap\u001b[0m \u001b[0;34m=\u001b[0m \u001b[0mMaps\u001b[0m\u001b[0;34m.\u001b[0m\u001b[0mInjectActiveCells\u001b[0m\u001b[0;34m(\u001b[0m\u001b[0mmesh\u001b[0m\u001b[0;34m,\u001b[0m \u001b[0;34m~\u001b[0m\u001b[0mairind\u001b[0m\u001b[0;34m,\u001b[0m \u001b[0mnp\u001b[0m\u001b[0;34m.\u001b[0m\u001b[0mlog\u001b[0m\u001b[0;34m(\u001b[0m\u001b[0;36m1e-8\u001b[0m\u001b[0;34m)\u001b[0m\u001b[0;34m)\u001b[0m\u001b[0;34m\u001b[0m\u001b[0m\n\u001b[1;32m      5\u001b[0m \u001b[0mmapping\u001b[0m \u001b[0;34m=\u001b[0m \u001b[0mexpmap\u001b[0m\u001b[0;34m*\u001b[0m\u001b[0mactmap\u001b[0m\u001b[0;34m\u001b[0m\u001b[0m\n",
      "\u001b[0;31mNameError\u001b[0m: name 'Maps' is not defined"
     ]
    }
   ],
   "source": [
    "# from log conductivity to conductivity\n",
    "expmap = Maps.ExpMap(mesh)\n",
    "# from subsurface cells to full 3D cells\n",
    "actmap = Maps.InjectActiveCells(mesh, ~airind, np.log(1e-8))\n",
    "mapping = expmap*actmap"
   ]
  },
  {
   "cell_type": "markdown",
   "metadata": {},
   "source": [
    "Generated mapping should be passed to **Problem** class:"
   ]
  },
  {
   "cell_type": "code",
   "execution_count": 16,
   "metadata": {
    "collapsed": false
   },
   "outputs": [
    {
     "ename": "NameError",
     "evalue": "name 'mapping' is not defined",
     "output_type": "error",
     "traceback": [
      "\u001b[0;31m---------------------------------------------------------------------------\u001b[0m",
      "\u001b[0;31mNameError\u001b[0m                                 Traceback (most recent call last)",
      "\u001b[0;32m<ipython-input-16-a60757074025>\u001b[0m in \u001b[0;36m<module>\u001b[0;34m()\u001b[0m\n\u001b[1;32m      1\u001b[0m \u001b[0;31m# Generate problem with mapping\u001b[0m\u001b[0;34m\u001b[0m\u001b[0;34m\u001b[0m\u001b[0m\n\u001b[0;32m----> 2\u001b[0;31m \u001b[0mproblem\u001b[0m \u001b[0;34m=\u001b[0m \u001b[0mDC\u001b[0m\u001b[0;34m.\u001b[0m\u001b[0mProblem3D_CC\u001b[0m\u001b[0;34m(\u001b[0m\u001b[0mmesh\u001b[0m\u001b[0;34m,\u001b[0m \u001b[0msigmaMap\u001b[0m\u001b[0;34m=\u001b[0m\u001b[0mmapping\u001b[0m\u001b[0;34m)\u001b[0m\u001b[0;34m\u001b[0m\u001b[0m\n\u001b[0m",
      "\u001b[0;31mNameError\u001b[0m: name 'mapping' is not defined"
     ]
    }
   ],
   "source": [
    "# Generate problem with mapping\n",
    "problem = DC.Problem3D_CC(mesh, sigmaMap=mapping)"
   ]
  },
  {
   "cell_type": "markdown",
   "metadata": {},
   "source": [
    "### Data Misfit\n",
    "\n",
    "Finding a model explaining the observed data requires a measure between\n",
    "observed ($\\mathbf{d}^{obs}$) and predicted data\n",
    "($\\mathbf{d}^{dpred}$):\n",
    "\n",
    "$$\n",
    "    \\phi_d = 0.5\\| \\mathbf{W}_d (\\mathbf{d}^{pred}-\\mathbf{d}^{obs})\\|^2_2,\n",
    "$$\n",
    "\n",
    "where $\\mathbf{W}_d = \\mathbf{diag}( \\frac{1}{\\% | \\mathbf{d}^{obs}\n",
    "|+\\epsilon} )$ is the data weighting matrix. Uncertainty in the observed data\n",
    "is approximated as $\\% | \\mathbf{d}^{obs} |+\\epsilon$."
   ]
  },
  {
   "cell_type": "code",
   "execution_count": 17,
   "metadata": {
    "collapsed": false
   },
   "outputs": [
    {
     "ename": "NameError",
     "evalue": "name 'dobs' is not defined",
     "output_type": "error",
     "traceback": [
      "\u001b[0;31m---------------------------------------------------------------------------\u001b[0m",
      "\u001b[0;31mNameError\u001b[0m                                 Traceback (most recent call last)",
      "\u001b[0;32m<ipython-input-17-448954ed1fc5>\u001b[0m in \u001b[0;36m<module>\u001b[0;34m()\u001b[0m\n\u001b[1;32m      3\u001b[0m \u001b[0msurvey\u001b[0m\u001b[0;34m.\u001b[0m\u001b[0mstd\u001b[0m \u001b[0;34m=\u001b[0m \u001b[0mstd\u001b[0m\u001b[0;34m\u001b[0m\u001b[0m\n\u001b[1;32m      4\u001b[0m \u001b[0msurvey\u001b[0m\u001b[0;34m.\u001b[0m\u001b[0meps\u001b[0m \u001b[0;34m=\u001b[0m \u001b[0meps\u001b[0m\u001b[0;34m\u001b[0m\u001b[0m\n\u001b[0;32m----> 5\u001b[0;31m \u001b[0msurvey\u001b[0m\u001b[0;34m.\u001b[0m\u001b[0mdobs\u001b[0m \u001b[0;34m=\u001b[0m \u001b[0mdobs\u001b[0m\u001b[0;34m\u001b[0m\u001b[0m\n\u001b[0m\u001b[1;32m      6\u001b[0m \u001b[0;34m\u001b[0m\u001b[0m\n\u001b[1;32m      7\u001b[0m \u001b[0;31m# Define datamisfit portion of objective function\u001b[0m\u001b[0;34m\u001b[0m\u001b[0;34m\u001b[0m\u001b[0m\n",
      "\u001b[0;31mNameError\u001b[0m: name 'dobs' is not defined"
     ]
    }
   ],
   "source": [
    "# percentage and floor for uncertainty in the observed data\n",
    "std, eps = 0.05, 1e-3\n",
    "survey.std = std\n",
    "survey.eps = eps\n",
    "survey.dobs = dobs\n",
    "\n",
    "# Define datamisfit portion of objective function\n",
    "dmisfit = DataMisfit.l2_DataMisfit(survey)\n"
   ]
  },
  {
   "cell_type": "markdown",
   "metadata": {},
   "source": [
    "### Regularization\n",
    "\n",
    "The objective function includes both data misfit and regularization terms,\n",
    "$\\phi_m$ :\n",
    "\n",
    "$$\n",
    "    \\phi = \\phi_d + \\beta \\phi_m\n",
    "$$\n",
    "\n",
    "We use Tikhonov-style regularization including both smoothness and smallness\n",
    "terms. For further details of this See XXX.\n",
    "\n",
    "In addition, considering the geometry of the gradient array: a single source\n",
    "and distributed receivers, this specific DC survey may not have much depth\n",
    "resolution similar to magnetic and gravity data. Depth weighting\n",
    "($\\frac{1}{(z-z_0)^3}$) is often used to handle this. And with this\n",
    "weight we form **Regularization** class:"
   ]
  },
  {
   "cell_type": "code",
   "execution_count": 18,
   "metadata": {
    "collapsed": false
   },
   "outputs": [
    {
     "ename": "NameError",
     "evalue": "name 'Regularization' is not defined",
     "output_type": "error",
     "traceback": [
      "\u001b[0;31m---------------------------------------------------------------------------\u001b[0m",
      "\u001b[0;31mNameError\u001b[0m                                 Traceback (most recent call last)",
      "\u001b[0;32m<ipython-input-18-0093d24eefda>\u001b[0m in \u001b[0;36m<module>\u001b[0;34m()\u001b[0m\n\u001b[1;32m      4\u001b[0m \u001b[0;34m\u001b[0m\u001b[0m\n\u001b[1;32m      5\u001b[0m \u001b[0;31m# Define regulatization (model objective function)\u001b[0m\u001b[0;34m\u001b[0m\u001b[0;34m\u001b[0m\u001b[0m\n\u001b[0;32m----> 6\u001b[0;31m \u001b[0mreg\u001b[0m \u001b[0;34m=\u001b[0m \u001b[0mRegularization\u001b[0m\u001b[0;34m.\u001b[0m\u001b[0mSimple\u001b[0m\u001b[0;34m(\u001b[0m\u001b[0mmesh\u001b[0m\u001b[0;34m,\u001b[0m \u001b[0mmapping\u001b[0m\u001b[0;34m=\u001b[0m\u001b[0mregmap\u001b[0m\u001b[0;34m,\u001b[0m \u001b[0mindActive\u001b[0m\u001b[0;34m=\u001b[0m\u001b[0;34m~\u001b[0m\u001b[0mairind\u001b[0m\u001b[0;34m)\u001b[0m\u001b[0;34m\u001b[0m\u001b[0m\n\u001b[0m\u001b[1;32m      7\u001b[0m \u001b[0mreg\u001b[0m\u001b[0;34m.\u001b[0m\u001b[0mcell_weights\u001b[0m \u001b[0;34m=\u001b[0m \u001b[0mdepth\u001b[0m\u001b[0;34m[\u001b[0m\u001b[0;34m~\u001b[0m\u001b[0mairind\u001b[0m\u001b[0;34m]\u001b[0m\u001b[0;34m\u001b[0m\u001b[0m\n\u001b[1;32m      8\u001b[0m \u001b[0mreg\u001b[0m\u001b[0;34m.\u001b[0m\u001b[0malpha_s\u001b[0m \u001b[0;34m=\u001b[0m \u001b[0;36m1e-1\u001b[0m\u001b[0;34m\u001b[0m\u001b[0m\n",
      "\u001b[0;31mNameError\u001b[0m: name 'Regularization' is not defined"
     ]
    }
   ],
   "source": [
    "# Depth weighting\n",
    "depth = 1./(abs(mesh.gridCC[:,2]-zc))**1.5\n",
    "depth = depth/depth.max()\n",
    "\n",
    "# Define regulatization (model objective function)\n",
    "reg = Regularization.Simple(mesh, mapping=regmap, indActive=~airind)\n",
    "reg.cell_weights = depth[~airind]\n",
    "reg.alpha_s = 1e-1\n",
    "reg.alpha_x = 1.\n",
    "reg.alpha_y = 1.\n",
    "reg.alpha_z = 1."
   ]
  },
  {
   "cell_type": "markdown",
   "metadata": {},
   "source": [
    "### Optimization\n",
    "\n",
    "To minimize the objective function, an optimization scheme is required. The\n",
    "**Optimization** class handles this, and we use Inexact Gauss Newton Scheme\n",
    "CITExxx."
   ]
  },
  {
   "cell_type": "code",
   "execution_count": 19,
   "metadata": {
    "collapsed": false
   },
   "outputs": [
    {
     "ename": "NameError",
     "evalue": "name 'Optimization' is not defined",
     "output_type": "error",
     "traceback": [
      "\u001b[0;31m---------------------------------------------------------------------------\u001b[0m",
      "\u001b[0;31mNameError\u001b[0m                                 Traceback (most recent call last)",
      "\u001b[0;32m<ipython-input-19-e4631c7d7d37>\u001b[0m in \u001b[0;36m<module>\u001b[0;34m()\u001b[0m\n\u001b[0;32m----> 1\u001b[0;31m \u001b[0mopt\u001b[0m \u001b[0;34m=\u001b[0m \u001b[0mOptimization\u001b[0m\u001b[0;34m.\u001b[0m\u001b[0mInexactGaussNewton\u001b[0m\u001b[0;34m(\u001b[0m\u001b[0mmaxIter\u001b[0m \u001b[0;34m=\u001b[0m \u001b[0;36m20\u001b[0m\u001b[0;34m)\u001b[0m\u001b[0;34m\u001b[0m\u001b[0m\n\u001b[0m",
      "\u001b[0;31mNameError\u001b[0m: name 'Optimization' is not defined"
     ]
    }
   ],
   "source": [
    "opt = Optimization.InexactGaussNewton(maxIter = 20)"
   ]
  },
  {
   "cell_type": "markdown",
   "metadata": {},
   "source": [
    "### InvProblem\n",
    "\n",
    "Both **DatamMisfit** and **Regularization** classes are created, and an\n",
    "**Optimization** is chosen. To pose the inverse problem, they need to be\n",
    "declared as an optimization problem:\n",
    "\n",
    "$$\n",
    "    \\text{minimize} \\ \\phi_d + \\beta \\phi_m \\ \\\\\n",
    "    s.t. \\ \\text{some constratins}\n",
    "$$\n",
    "\n",
    "The **InvProblem** class can be set with **DatamMisfit**,  **Regularization** and **Optimiztion**\n",
    "classes."
   ]
  },
  {
   "cell_type": "code",
   "execution_count": null,
   "metadata": {
    "collapsed": true
   },
   "outputs": [],
   "source": [
    "invProb = InvProblem.BaseInvProblem(dmisfit, reg, opt)"
   ]
  },
  {
   "cell_type": "markdown",
   "metadata": {},
   "source": [
    "### Inversion\n",
    "\n",
    "We have stated our inverse problem, but a conductor is required, who directs\n",
    "our inverse problem. **Directives** conducts our **Inversion**. For instance,\n",
    "the trade-off parameter, $\\beta$ needs to be estimated, and sometimes\n",
    "cooled in the inversion iterations. A target misfit is need to be set usually\n",
    "upon discrepancy principle ($\\phi_d^\\ast = 0.5 N_d$, where $N_d$\n",
    "is the number of data).\n"
   ]
  },
  {
   "cell_type": "code",
   "execution_count": 21,
   "metadata": {
    "collapsed": false
   },
   "outputs": [
    {
     "ename": "NameError",
     "evalue": "name 'invProb' is not defined",
     "output_type": "error",
     "traceback": [
      "\u001b[0;31m---------------------------------------------------------------------------\u001b[0m",
      "\u001b[0;31mNameError\u001b[0m                                 Traceback (most recent call last)",
      "\u001b[0;32m<ipython-input-21-e4ca6bc5751c>\u001b[0m in \u001b[0;36m<module>\u001b[0;34m()\u001b[0m\n\u001b[1;32m      5\u001b[0m \u001b[0;34m\u001b[0m\u001b[0m\n\u001b[1;32m      6\u001b[0m \u001b[0;31m# Define Inversion class\u001b[0m\u001b[0;34m\u001b[0m\u001b[0;34m\u001b[0m\u001b[0m\n\u001b[0;32m----> 7\u001b[0;31m \u001b[0minv\u001b[0m \u001b[0;34m=\u001b[0m \u001b[0mInversion\u001b[0m\u001b[0;34m.\u001b[0m\u001b[0mBaseInversion\u001b[0m\u001b[0;34m(\u001b[0m\u001b[0minvProb\u001b[0m\u001b[0;34m,\u001b[0m \u001b[0mdirectiveList\u001b[0m\u001b[0;34m=\u001b[0m\u001b[0;34m[\u001b[0m\u001b[0mbeta\u001b[0m\u001b[0;34m,\u001b[0m \u001b[0mbetaest\u001b[0m\u001b[0;34m,\u001b[0m \u001b[0mtarget\u001b[0m\u001b[0;34m]\u001b[0m\u001b[0;34m)\u001b[0m\u001b[0;34m\u001b[0m\u001b[0m\n\u001b[0m",
      "\u001b[0;31mNameError\u001b[0m: name 'invProb' is not defined"
     ]
    }
   ],
   "source": [
    "# Define Directives\n",
    "betaest = Directives.BetaEstimate_ByEig(beta0_ratio=1e0)\n",
    "beta = Directives.BetaSchedule(coolingFactor=5, coolingRate=2)\n",
    "target = Directives.TargetMisfit()\n",
    "\n",
    "# Define Inversion class\n",
    "inv = Inversion.BaseInversion(invProb, directiveList=[beta, betaest, target])"
   ]
  },
  {
   "cell_type": "markdown",
   "metadata": {},
   "source": [
    "### Run\n",
    "\n",
    "Now we all set. The initial model is assumed to be homogeneous."
   ]
  },
  {
   "cell_type": "code",
   "execution_count": 23,
   "metadata": {
    "collapsed": false
   },
   "outputs": [
    {
     "ename": "NameError",
     "evalue": "name 'airind' is not defined",
     "output_type": "error",
     "traceback": [
      "\u001b[0;31m---------------------------------------------------------------------------\u001b[0m",
      "\u001b[0;31mNameError\u001b[0m                                 Traceback (most recent call last)",
      "\u001b[0;32m<ipython-input-23-2b3c69dc59ea>\u001b[0m in \u001b[0;36m<module>\u001b[0;34m()\u001b[0m\n\u001b[1;32m      1\u001b[0m \u001b[0;31m# Create inital and reference model (1e-4 S/m)\u001b[0m\u001b[0;34m\u001b[0m\u001b[0;34m\u001b[0m\u001b[0m\n\u001b[0;32m----> 2\u001b[0;31m \u001b[0mm0\u001b[0m \u001b[0;34m=\u001b[0m \u001b[0mnp\u001b[0m\u001b[0;34m.\u001b[0m\u001b[0mones\u001b[0m\u001b[0;34m(\u001b[0m\u001b[0mmesh\u001b[0m\u001b[0;34m.\u001b[0m\u001b[0mnC\u001b[0m\u001b[0;34m)\u001b[0m\u001b[0;34m[\u001b[0m\u001b[0;34m~\u001b[0m\u001b[0mairind\u001b[0m\u001b[0;34m]\u001b[0m\u001b[0;34m*\u001b[0m\u001b[0mnp\u001b[0m\u001b[0;34m.\u001b[0m\u001b[0mlog\u001b[0m\u001b[0;34m(\u001b[0m\u001b[0;36m1e-4\u001b[0m\u001b[0;34m)\u001b[0m\u001b[0;34m\u001b[0m\u001b[0m\n\u001b[0m\u001b[1;32m      3\u001b[0m \u001b[0;34m\u001b[0m\u001b[0m\n\u001b[1;32m      4\u001b[0m \u001b[0;31m# Run inversion\u001b[0m\u001b[0;34m\u001b[0m\u001b[0;34m\u001b[0m\u001b[0m\n\u001b[1;32m      5\u001b[0m \u001b[0mmopt\u001b[0m \u001b[0;34m=\u001b[0m \u001b[0minv\u001b[0m\u001b[0;34m.\u001b[0m\u001b[0mrun\u001b[0m\u001b[0;34m(\u001b[0m\u001b[0mm0\u001b[0m\u001b[0;34m)\u001b[0m\u001b[0;34m\u001b[0m\u001b[0m\n",
      "\u001b[0;31mNameError\u001b[0m: name 'airind' is not defined"
     ]
    }
   ],
   "source": [
    "# Create inital and reference model (1e-4 S/m)\n",
    "m0 = np.ones(mesh.nC)[~airind]*np.log(1e-4)\n",
    "\n",
    "# Run inversion\n",
    "mopt = inv.run(m0)"
   ]
  },
  {
   "cell_type": "markdown",
   "metadata": {},
   "source": [
    "\n",
    "The inversion runs and reaches to the target misfit, hence we fit the observed\n",
    "data.\n",
    "\n",
    "![DCObsPred](../../../images/dc/DCObsPred.png)\n",
    "\n",
    "A 3D conductivity model is recovered and compared with the true conductivity\n",
    "model. A conductive pipe at depth is recovered!\n",
    "\n",
    "![DCObsPred](../../../images/dc/Cond3D.png)\n"
   ]
  },
  {
   "cell_type": "code",
   "execution_count": null,
   "metadata": {
    "collapsed": true
   },
   "outputs": [],
   "source": []
  }
 ],
 "metadata": {
  "kernelspec": {
   "display_name": "Python 2",
   "language": "python",
   "name": "python2"
  },
  "language_info": {
   "codemirror_mode": {
    "name": "ipython",
    "version": 2
   },
   "file_extension": ".py",
   "mimetype": "text/x-python",
   "name": "python",
   "nbconvert_exporter": "python",
   "pygments_lexer": "ipython2",
   "version": "2.7.13"
  }
 },
 "nbformat": 4,
 "nbformat_minor": 2
}
