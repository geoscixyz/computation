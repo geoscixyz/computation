{
 "cells": [
  {
   "cell_type": "markdown",
   "metadata": {},
   "source": [
    "<img src=\"https://raw.githubusercontent.com/simpeg/simpeg/master/docs/images/simpeg-logo.png\" align=\"center\" width=240>\n",
    "\n",
    "\n",
    "# SimPEG Tutorials\n",
    "\n",
    "These notebooks provide an overview of <a href=\"http://simpeg.xyz\">SimPEG</a> (Simulation and Parameter Estimation in Geophysics). There is documentation that accompanies these, with further write-ups and explination in the <a href=\"http://simpegtutorials.readthedocs.io/\">Tutorials Documentation</a>. These are under construction, so please <a href=\"https://github.com/simpeg/tutorials/issues\">make an issue on github</a> if you run into any issues or gaps in explination!\n",
    "\n",
    "**Contents**\n",
    "\n",
    "- <a href=\"tools.ipynb\">Tools</a>\n",
    "- <a href=\"pixels_and_neighbors/index.ipynb\">Pixels and Their Neighbors</a>\n",
    "- <a href=\"PF/Magnetics_over_TKC.ipynb\">Potential Fields Inversion</a>"
   ]
  }
 ],
 "metadata": {
  "anaconda-cloud": {},
  "kernelspec": {
   "display_name": "Python [default]",
   "language": "python",
   "name": "python2"
  },
  "language_info": {
   "codemirror_mode": {
    "name": "ipython",
    "version": 2
   },
   "file_extension": ".py",
   "mimetype": "text/x-python",
   "name": "python",
   "nbconvert_exporter": "python",
   "pygments_lexer": "ipython2",
   "version": "2.7.12"
  }
 },
 "nbformat": 4,
 "nbformat_minor": 0
}
