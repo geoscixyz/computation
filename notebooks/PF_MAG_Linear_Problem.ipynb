{
 "cells": [
  {
   "cell_type": "markdown",
   "metadata": {},
   "source": [
    "**Objective:** \n",
    "\n",
    "In this tutorial we will create a simple magnetic problem from scratch using the SimPEG framework.\n",
    "\n",
    "We are using the integral form of the magnetostatic problem. In the absence of free-currents or changing magnetic field, magnetic material can give rise to a secondary magnetic field according to:\n",
    "\n",
    "$$\\vec b = \\frac{\\mu_0}{4\\pi}  \\int_{V}   \\vec M \\cdot \\nabla \\nabla \\left(\\frac{1}{r}\\right) \\; dV $$\n",
    "\n",
    "Where $\\mu_0$ is the magnetic permealitity of free-space, $\\vec M$ is the magnetization per unit volume and $r$  defines the distance between the observed field $\\vec b$ and the magnetized object. Assuming a purely induced response, the strenght of magnetization can be written as:\n",
    "\n",
    "$$ \\vec M = \\mu_0 \\kappa \\vec H_0 $$\n",
    "\n",
    "where $\\vec H$ is an external inducing magnetic field, and $\\kappa$ the magnetic susceptibility of matter.\n",
    "As derived by Sharma 1966, the integral can be evaluated for rectangular prisms such that:\n",
    "\n",
    "$$ \\vec b(P) =  \\mathbf{T} \\cdot \\vec H_0 \\; \\kappa $$\n",
    "\n",
    "Where the tensor matrix $\\bf{T}$ relates the three components of magnetization $\\vec M$ to the components of the field $\\vec b$:\n",
    "\n",
    "$$\\mathbf{T} =\n",
    "\t \\begin{pmatrix}\n",
    "       \t\tT_{xx} & T_{xy} & T_{xz}    \\\\\n",
    "\t\tT_{yx} & T_{yy} & T_{yz}    \\\\\n",
    "\t\tT_{zx} & T_{zy} & T_{zz}           \n",
    "\t\\end{pmatrix} $$\n",
    "    \n",
    "In general, we discretize the earth into a collection of cells, each contributing to the magnetic data such that:\n",
    "\n",
    "$$\\vec b(P) = \\sum_{j=1}^{nc} \\mathbf{T}_j \\cdot \\vec H_0 \\; \\kappa_j$$\n",
    "\n",
    "giving rise to a linear problem.\n",
    "\n",
    "The remaining of this notebook goes through all the important components of a 3D magnetic experiment. From mesh creation, topography, data and inverse problem. \n",
    "\n",
    "Enjoy.\n"
   ]
  },
  {
   "cell_type": "code",
   "execution_count": null,
   "metadata": {
    "collapsed": false
   },
   "outputs": [],
   "source": [
    "from SimPEG import *\n",
    "import SimPEG.PF as PF\n",
    "import matplotlib.pyplot as plt\n",
    "%matplotlib notebook"
   ]
  },
  {
   "cell_type": "code",
   "execution_count": null,
   "metadata": {
    "collapsed": false,
    "scrolled": true
   },
   "outputs": [],
   "source": [
    "# First we need to define the direction of the inducing field\n",
    "# As a simple case, we pick a vertical inducing field of magnitude 50,000nT. \n",
    "# From old convention, field orientation is given as an azimuth from North \n",
    "# (positive clockwise) and dip from the horizontal (positive downward).\n",
    "H0 = (60000.,90.,0.)\n",
    "\n",
    "\n",
    "# Create a mesh\n",
    "dx    = 5.\n",
    "\n",
    "hxind = [(dx,5,-1.3), (dx, 10), (dx,5,1.3)]\n",
    "hyind = [(dx,5,-1.3), (dx, 10), (dx,5,1.3)]\n",
    "hzind = [(dx,5,-1.3),(dx, 10)]\n",
    "\n",
    "mesh = Mesh.TensorMesh([hxind, hyind, hzind], 'CCC')\n",
    "\n",
    "# Get index of the center\n",
    "midx = int(mesh.nCx/2)\n",
    "midy = int(mesh.nCy/2)\n",
    "\n",
    "# Lets create a simple Gaussian topo and set the active cells\n",
    "[xx,yy] = np.meshgrid(mesh.vectorNx,mesh.vectorNy)\n",
    "zz = -np.exp( ( xx**2 + yy**2 )/ 75**2 ) + mesh.vectorNz[-1]\n",
    "\n",
    "topo = np.c_[mkvc(xx),mkvc(yy),mkvc(zz)] # We would usually load a topofile\n",
    "\n",
    "actv = Utils.surface2ind_topo(mesh,topo,'N') # Go from topo to actv cells\n",
    "actv = np.asarray([inds for inds, elem in enumerate(actv, 1) if elem], dtype = int) - 1\n",
    "#nC   = mesh.nC \n",
    "#actv = np.asarray(range(mesh.nC))\n",
    "\n",
    "# Create active map to go from reduce space to full\n",
    "actvMap = Maps.InjectActiveCells(mesh, actv, -100)\n",
    "nC = len(actv)\n",
    "\n",
    "# Create and array of observation points\n",
    "xr = np.linspace(-20., 20., 20)\n",
    "yr = np.linspace(-20., 20., 20)\n",
    "X, Y = np.meshgrid(xr, yr)\n",
    "\n",
    "# Let just put the observation above the topo\n",
    "Z = -np.exp( ( X**2 + Y**2 )/ 75**2 ) + mesh.vectorNz[-1] + 5.\n",
    "#Z = np.ones(shape(X)) * mesh.vectorCCz[-1]\n",
    "\n",
    "# Create a MAGsurvey\n",
    "rxLoc = np.c_[Utils.mkvc(X.T), Utils.mkvc(Y.T), Utils.mkvc(Z.T)]\n",
    "rxLoc = PF.BaseMag.RxObs(rxLoc)\n",
    "srcField = PF.BaseMag.SrcField([rxLoc],param = H0)\n",
    "survey = PF.BaseMag.LinearSurvey(srcField) \n"
   ]
  },
  {
   "cell_type": "markdown",
   "metadata": {},
   "source": [
    "Now that we have all our spatial components, we can create our linear system. For a single location and single component of the data, the system would look like this:\n",
    "\n",
    "$$ b_x =\n",
    "\t\\begin{bmatrix}\n",
    "\tT_{xx}^1 &... &T_{xx}^{nc} & T_{xy}^1 & ... & T_{xy}^{nc} & T_{xz}^1 & ... & T_{xz}^{nc}\\\\\n",
    "\t \\end{bmatrix}\n",
    "\t \\begin{bmatrix}\n",
    "\t\t\\mathbf{M}_x \\\\ \\mathbf{M}_y \\\\ \\mathbf{M}_z\n",
    "\t\\end{bmatrix} \\\\ $$\n",
    "\n",
    "where each of $T_{xx},\\;T_{xy},\\;T_{xz}$ are [nc x 1] long. For the $y$ and $z$ component, we need the two other rows of the tensor $\\mathbf{T}$.\n",
    "In our simple induced case, the magnetization direction $\\mathbf{M_x,\\;M_y\\;,Mz}$ are known and assumed to be constant everywhere, so we can reduce the size of the system such that: \n",
    "\n",
    "$$ \\vec{\\mathbf{d}}_{\\text{pred}} = (\\mathbf{T\\cdot M})\\; \\kappa$$\n",
    "\n",
    "\n",
    "\n",
    "In most geophysical surveys, we are not collecting all three components, but rather the magnitude of the field, or $Total\\;Magnetic\\;Intensity$ (TMI) data.\n",
    "Because the inducing field is really large, we will assume that the anomalous fields are parallel to $H_0$:\n",
    "\n",
    "$$ d^{TMI}  = \\hat H_0 \\cdot \\vec d$$\n",
    "\n",
    "We then end up with a much smaller system:\n",
    "\n",
    "$$ d^{TMI} = \\mathbf{F\\; \\kappa}$$\n",
    "\n",
    "where $\\mathbf{F} \\in \\mathbb{R}^{nd \\times nc}$ is our $forward$ operator."
   ]
  },
  {
   "cell_type": "code",
   "execution_count": null,
   "metadata": {
    "collapsed": false
   },
   "outputs": [],
   "source": [
    "# We can now create a susceptibility model and generate data\n",
    "# Lets start with a simple block in half-space\n",
    "model = np.zeros((mesh.nCx,mesh.nCy,mesh.nCz))\n",
    "model[(midx-2):(midx+2),(midy-2):(midy+2),-6:-2] = 0.02\n",
    "model = mkvc(model)\n",
    "model = model[actv]\n",
    "\n",
    "# Create active map to go from reduce set to full\n",
    "actvMap = Maps.InjectActiveCells(mesh, actv, -100)\n",
    "\n",
    "# Creat reduced identity map\n",
    "idenMap = Maps.IdentityMap(nP = nC)\n",
    "\n",
    "# Create the forward model operator\n",
    "prob = PF.Magnetics.MagneticIntegral(mesh, mapping = idenMap, actInd = actv)\n",
    "\n",
    "# Pair the survey and problem\n",
    "survey.pair(prob)\n",
    "\n",
    "# Compute linear forward operator and compute some data\n",
    "d = prob.fields(model)"
   ]
  },
  {
   "cell_type": "code",
   "execution_count": null,
   "metadata": {
    "collapsed": false
   },
   "outputs": [],
   "source": [
    "# Plot the model\n",
    "m_true = actvMap * model\n",
    "m_true[m_true==-100] = np.nan\n",
    "plt.figure()\n",
    "ax = plt.subplot(212)\n",
    "mesh.plotSlice(m_true, ax = ax, normal = 'Y', ind=midy, grid=True, clim = (0., model.max()), pcolorOpts={'cmap':'viridis'})\n",
    "plt.title('A simple block model.')\n",
    "plt.xlabel('x'); plt.ylabel('z')\n",
    "plt.gca().set_aspect('equal', adjustable='box')\n",
    "\n",
    "# We can now generate data\n",
    "data = d + np.random.randn(len(d)) # We add some random Gaussian noise (1nT)\n",
    "wd = np.ones(len(data))*1. # Assign flat uncertainties\n",
    "\n",
    "\n",
    "plt.subplot(221)\n",
    "plt.imshow(d.reshape(X.shape), extent=[xr.min(), xr.max(), yr.min(), yr.max()])\n",
    "plt.title('True data.')\n",
    "plt.gca().set_aspect('equal', adjustable='box')\n",
    "plt.colorbar()\n",
    "\n",
    "plt.subplot(222)\n",
    "plt.imshow(data.reshape(X.shape), extent=[xr.min(), xr.max(), yr.min(), yr.max()])\n",
    "plt.title('Data + Noise')\n",
    "plt.gca().set_aspect('equal', adjustable='box')\n",
    "plt.colorbar()\n"
   ]
  },
  {
   "cell_type": "code",
   "execution_count": null,
   "metadata": {
    "collapsed": false
   },
   "outputs": [],
   "source": [
    "# Create distance weights from our linera forward operator\n",
    "wr = np.sum(prob.G**2.,axis=0)**0.5\n",
    "wr = ( wr/np.max(wr) )\n",
    "\n",
    "\n",
    "wr_FULL = actvMap * wr\n",
    "wr_FULL[wr_FULL==-100] = np.nan\n",
    "plt.figure()\n",
    "ax = plt.subplot()\n",
    "mesh.plotSlice(wr_FULL, ax = ax, normal = 'Y', ind=midx, grid=True, clim = (0, wr.max()),pcolorOpts={'cmap':'viridis'})\n",
    "plt.title('Distance weighting')\n",
    "plt.xlabel('x');plt.ylabel('z')\n",
    "plt.gca().set_aspect('equal', adjustable='box')"
   ]
  },
  {
   "cell_type": "markdown",
   "metadata": {},
   "source": [
    "Once we have our problem, we can use the inversion tools in SimPEG to run our inversion:"
   ]
  },
  {
   "cell_type": "code",
   "execution_count": null,
   "metadata": {
    "collapsed": false
   },
   "outputs": [],
   "source": [
    "#survey.makeSyntheticData(data, std=0.01)\n",
    "survey.dobs= data\n",
    "survey.std = wd\n",
    "survey.mtrue = model\n",
    "\n",
    "# Create a regularization\n",
    "reg = Regularization.Sparse(mesh, indActive=actv, mapping=idenMap)\n",
    "reg.cell_weights = wr\n",
    "\n",
    "dmis = DataMisfit.l2_DataMisfit(survey)\n",
    "dmis.Wd = 1/wd\n",
    "\n",
    "# Add directives to the inversion\n",
    "opt = Optimization.ProjectedGNCG(maxIter=100 ,lower=0.,upper=1., maxIterLS = 20, maxIterCG= 10, tolCG = 1e-3)\n",
    "invProb = InvProblem.BaseInvProblem(dmis, reg, opt)\n",
    "betaest = Directives.BetaEstimate_ByEig()\n",
    "\n",
    "# Here is where the norms are applied\n",
    "# Use pick a treshold parameter empirically based on the distribution of model\n",
    "# parameters (run last cell to see the histogram before and after IRLS)\n",
    "IRLS = Directives.Update_IRLS( norms=([0,1,1,1]),  eps=None, f_min_change = 1e-3, minGNiter=3)\n",
    "update_Jacobi = Directives.Update_lin_PreCond()\n",
    "inv = Inversion.BaseInversion(invProb, directiveList=[IRLS,betaest,update_Jacobi])\n",
    "\n",
    "m0 = np.ones(nC)*1e-4"
   ]
  },
  {
   "cell_type": "code",
   "execution_count": null,
   "metadata": {
    "collapsed": false
   },
   "outputs": [],
   "source": [
    "mrec = inv.run(m0)"
   ]
  },
  {
   "cell_type": "markdown",
   "metadata": {},
   "source": [
    "Inversion has converged. We can plot sections through the model."
   ]
  },
  {
   "cell_type": "code",
   "execution_count": null,
   "metadata": {
    "collapsed": false
   },
   "outputs": [],
   "source": [
    "# Here is the recovered susceptibility model\n",
    "ypanel = midx\n",
    "zpanel = -4\n",
    "m_l2 = actvMap * reg.l2model\n",
    "m_l2[m_l2==-100] = np.nan\n",
    "\n",
    "m_lp = actvMap * mrec\n",
    "m_lp[m_lp==-100] = np.nan\n",
    "\n",
    "m_true = actvMap * model\n",
    "m_true[m_true==-100] = np.nan\n",
    "\n",
    "plt.figure()\n",
    "\n",
    "#Plot L2 model\n",
    "ax = plt.subplot(231)\n",
    "mesh.plotSlice(m_l2, ax = ax, normal = 'Z', ind=zpanel, grid=True, clim = (0., model.max()),pcolorOpts={'cmap':'viridis'})\n",
    "plt.plot(([mesh.vectorCCx[0],mesh.vectorCCx[-1]]),([mesh.vectorCCy[ypanel],mesh.vectorCCy[ypanel]]),color='w')\n",
    "plt.title('Plan l2-model.')\n",
    "plt.gca().set_aspect('equal')\n",
    "plt.ylabel('y')\n",
    "ax.xaxis.set_visible(False)\n",
    "plt.gca().set_aspect('equal', adjustable='box')\n",
    "\n",
    "# Vertica section\n",
    "ax = plt.subplot(234)\n",
    "mesh.plotSlice(m_l2, ax = ax, normal = 'Y', ind=midx, grid=True, clim = (0., model.max()),pcolorOpts={'cmap':'viridis'})\n",
    "plt.plot(([mesh.vectorCCx[0],mesh.vectorCCx[-1]]),([mesh.vectorCCz[zpanel],mesh.vectorCCz[zpanel]]),color='w')\n",
    "plt.plot(([mesh.vectorCCx[0],mesh.vectorCCx[-1]]),([Z.min(),Z.max()]),color='k')\n",
    "plt.title('E-W l2-model.')\n",
    "plt.gca().set_aspect('equal')\n",
    "plt.xlabel('x')\n",
    "plt.ylabel('z')\n",
    "plt.gca().set_aspect('equal', adjustable='box')\n",
    "\n",
    "#Plot Lp model\n",
    "ax = plt.subplot(232)\n",
    "mesh.plotSlice(m_lp, ax = ax, normal = 'Z', ind=zpanel, grid=True, clim = (0., model.max()),pcolorOpts={'cmap':'viridis'})\n",
    "plt.plot(([mesh.vectorCCx[0],mesh.vectorCCx[-1]]),([mesh.vectorCCy[ypanel],mesh.vectorCCy[ypanel]]),color='w')\n",
    "plt.title('Plan lp-model.')\n",
    "plt.gca().set_aspect('equal')\n",
    "ax.xaxis.set_visible(False)\n",
    "ax.yaxis.set_visible(False)\n",
    "plt.gca().set_aspect('equal', adjustable='box')\n",
    "\n",
    "\n",
    "# Vertical section\n",
    "ax = plt.subplot(235)\n",
    "mesh.plotSlice(m_lp, ax = ax, normal = 'Y', ind=midx, grid=True, clim = (0., model.max()),pcolorOpts={'cmap':'viridis'})\n",
    "plt.plot(([mesh.vectorCCx[0],mesh.vectorCCx[-1]]),([mesh.vectorCCz[zpanel],mesh.vectorCCz[zpanel]]),color='w')\n",
    "plt.title('E-W lp-model.')\n",
    "plt.gca().set_aspect('equal')\n",
    "ax.yaxis.set_visible(False)\n",
    "plt.xlabel('x')\n",
    "plt.gca().set_aspect('equal', adjustable='box')\n",
    "\n",
    "#Plot True model\n",
    "ax = plt.subplot(233)\n",
    "mesh.plotSlice(m_true, ax = ax, normal = 'Z', ind=zpanel, grid=True, clim = (0., model.max()),pcolorOpts={'cmap':'viridis'})\n",
    "plt.plot(([mesh.vectorCCx[0],mesh.vectorCCx[-1]]),([mesh.vectorCCy[ypanel],mesh.vectorCCy[ypanel]]),color='w')\n",
    "plt.title('Plan true model.')\n",
    "plt.gca().set_aspect('equal')\n",
    "ax.xaxis.set_visible(False)\n",
    "ax.yaxis.set_visible(False)\n",
    "plt.gca().set_aspect('equal', adjustable='box')\n",
    "\n",
    "\n",
    "# Vertical section\n",
    "ax = plt.subplot(236)\n",
    "mesh.plotSlice(m_true, ax = ax, normal = 'Y', ind=midx, grid=True, clim = (0., model.max()),pcolorOpts={'cmap':'viridis'})\n",
    "plt.plot(([mesh.vectorCCx[0],mesh.vectorCCx[-1]]),([mesh.vectorCCz[zpanel],mesh.vectorCCz[zpanel]]),color='w')\n",
    "plt.title('E-W true model.')\n",
    "plt.gca().set_aspect('equal')\n",
    "plt.xlabel('x')\n",
    "ax.yaxis.set_visible(False)\n",
    "plt.gca().set_aspect('equal', adjustable='box')\n",
    "\n"
   ]
  },
  {
   "cell_type": "markdown",
   "metadata": {},
   "source": [
    "Great, we have a 3D model of susceptibility, but the job is not done yet.\n",
    "A VERY important step of the inversion workflow is to look at how well the model can predict the observed data.\n",
    "The figure below compares the observed, predicted and normalized residual.\n"
   ]
  },
  {
   "cell_type": "code",
   "execution_count": null,
   "metadata": {
    "collapsed": false
   },
   "outputs": [],
   "source": [
    "# Plot predicted data and residual\n",
    "plt.figure()\n",
    "pred = prob.fields(mrec)  #: this is matrix multiplication!!\n",
    "\n",
    "plt.subplot(221)\n",
    "plt.imshow(data.reshape(X.shape))\n",
    "plt.title('Observed data.')\n",
    "plt.gca().set_aspect('equal', adjustable='box')\n",
    "plt.colorbar()\n",
    "\n",
    "plt.subplot(222)\n",
    "plt.imshow(pred.reshape(X.shape))\n",
    "plt.title('Predicted data.')\n",
    "plt.gca().set_aspect('equal', adjustable='box')\n",
    "plt.colorbar()\n",
    "\n",
    "plt.subplot(223)\n",
    "plt.imshow(data.reshape(X.shape) - pred.reshape(X.shape))\n",
    "plt.title('Residual data.')\n",
    "plt.gca().set_aspect('equal', adjustable='box')\n",
    "plt.colorbar()\n",
    "\n",
    "plt.subplot(224)\n",
    "plt.imshow( (data.reshape(X.shape) - pred.reshape(X.shape)) / wd.reshape(X.shape) )\n",
    "plt.title('Normalized Residual')\n",
    "plt.gca().set_aspect('equal', adjustable='box')\n",
    "plt.colorbar()"
   ]
  },
  {
   "cell_type": "markdown",
   "metadata": {},
   "source": [
    "Good job! \n",
    "Hopefully we covered all the important points regarding the inversion of magnetic field data using the integral formulation.\n",
    "\n",
    "Make sure you visit the notebook for the compact norms regularization.\n",
    "\n",
    "Cheers!"
   ]
  },
  {
   "cell_type": "code",
   "execution_count": null,
   "metadata": {
    "collapsed": true
   },
   "outputs": [],
   "source": []
  }
 ],
 "metadata": {
  "kernelspec": {
   "display_name": "Python 2",
   "language": "python",
   "name": "python2"
  },
  "language_info": {
   "codemirror_mode": {
    "name": "ipython",
    "version": 2
   },
   "file_extension": ".py",
   "mimetype": "text/x-python",
   "name": "python",
   "nbconvert_exporter": "python",
   "pygments_lexer": "ipython2",
   "version": "2.7.11"
  }
 },
 "nbformat": 4,
 "nbformat_minor": 0
}
