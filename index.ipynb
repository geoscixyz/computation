{
 "cells": [
  {
   "cell_type": "markdown",
   "metadata": {},
   "source": [
    "# MT1D\n",
    "\n",
    "*Seogi Kang, Lindsey Heagy, Rowan Cockett and Doug Oldenburg*\n",
    "\n",
    "There are 5 notebooks in this tutorial - we wrote them in order: starting from discretizing the governing equations for the Magnetotelluric Problem, organizing the pieces so you can\n",
    "\n",
    "- MT1D (there are some gorey details)"
   ]
  },
  {
   "cell_type": "code",
   "execution_count": null,
   "metadata": {
    "collapsed": true
   },
   "outputs": [],
   "source": []
  }
 ],
 "metadata": {
  "kernelspec": {
   "display_name": "Python 2",
   "language": "python",
   "name": "python2"
  },
  "language_info": {
   "codemirror_mode": {
    "name": "ipython",
    "version": 2
   },
   "file_extension": ".py",
   "mimetype": "text/x-python",
   "name": "python",
   "nbconvert_exporter": "python",
   "pygments_lexer": "ipython2",
   "version": "2.7.13"
  }
 },
 "nbformat": 4,
 "nbformat_minor": 2
}
